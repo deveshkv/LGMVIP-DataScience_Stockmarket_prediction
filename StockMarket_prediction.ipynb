{
  "cells": [
    {
      "cell_type": "markdown",
      "metadata": {
        "id": "DRfe_KkRYjWy"
      },
      "source": [
        "\n",
        "# **Stock Market Prediction And Forecasting Using Stacked LSTM**"
      ]
    },
    {
      "cell_type": "markdown",
      "metadata": {
        "id": "t-ovZBBTY46a"
      },
      "source": [
        "# **LGMVIP-DataSciece Task2 by Devesh Kumar**"
      ]
    },
    {
      "cell_type": "code",
      "execution_count": 244,
      "metadata": {
        "id": "iza1taWoaXaO"
      },
      "outputs": [],
      "source": [
        "import pandas as pd\n",
        "import numpy as np\n",
        "import matplotlib.pyplot as plt\n",
        "import seaborn as sns"
      ]
    },
    {
      "cell_type": "code",
      "execution_count": 245,
      "metadata": {
        "id": "2l7QN52banxX"
      },
      "outputs": [],
      "source": [
        "stocks=pd.read_csv('https://raw.githubusercontent.com/mwitiderrick/stockprice/master/NSE-TATAGLOBAL.csv')"
      ]
    },
    {
      "cell_type": "code",
      "execution_count": 246,
      "metadata": {
        "colab": {
          "base_uri": "https://localhost:8080/",
          "height": 206
        },
        "id": "EkQhZPgpa2yb",
        "outputId": "501cb273-d168-4c6f-ad6b-7bbb99727630"
      },
      "outputs": [
        {
          "output_type": "execute_result",
          "data": {
            "text/plain": [
              "         Date    Open    High     Low    Last   Close  Total Trade Quantity  \\\n",
              "0  2018-09-28  234.05  235.95  230.20  233.50  233.75               3069914   \n",
              "1  2018-09-27  234.55  236.80  231.10  233.80  233.25               5082859   \n",
              "2  2018-09-26  240.00  240.00  232.50  235.00  234.25               2240909   \n",
              "3  2018-09-25  233.30  236.75  232.00  236.25  236.10               2349368   \n",
              "4  2018-09-24  233.55  239.20  230.75  234.00  233.30               3423509   \n",
              "\n",
              "   Turnover (Lacs)  \n",
              "0          7162.35  \n",
              "1         11859.95  \n",
              "2          5248.60  \n",
              "3          5503.90  \n",
              "4          7999.55  "
            ],
            "text/html": [
              "\n",
              "  <div id=\"df-aa3e97eb-cd6b-4897-895b-46a9b3884565\">\n",
              "    <div class=\"colab-df-container\">\n",
              "      <div>\n",
              "<style scoped>\n",
              "    .dataframe tbody tr th:only-of-type {\n",
              "        vertical-align: middle;\n",
              "    }\n",
              "\n",
              "    .dataframe tbody tr th {\n",
              "        vertical-align: top;\n",
              "    }\n",
              "\n",
              "    .dataframe thead th {\n",
              "        text-align: right;\n",
              "    }\n",
              "</style>\n",
              "<table border=\"1\" class=\"dataframe\">\n",
              "  <thead>\n",
              "    <tr style=\"text-align: right;\">\n",
              "      <th></th>\n",
              "      <th>Date</th>\n",
              "      <th>Open</th>\n",
              "      <th>High</th>\n",
              "      <th>Low</th>\n",
              "      <th>Last</th>\n",
              "      <th>Close</th>\n",
              "      <th>Total Trade Quantity</th>\n",
              "      <th>Turnover (Lacs)</th>\n",
              "    </tr>\n",
              "  </thead>\n",
              "  <tbody>\n",
              "    <tr>\n",
              "      <th>0</th>\n",
              "      <td>2018-09-28</td>\n",
              "      <td>234.05</td>\n",
              "      <td>235.95</td>\n",
              "      <td>230.20</td>\n",
              "      <td>233.50</td>\n",
              "      <td>233.75</td>\n",
              "      <td>3069914</td>\n",
              "      <td>7162.35</td>\n",
              "    </tr>\n",
              "    <tr>\n",
              "      <th>1</th>\n",
              "      <td>2018-09-27</td>\n",
              "      <td>234.55</td>\n",
              "      <td>236.80</td>\n",
              "      <td>231.10</td>\n",
              "      <td>233.80</td>\n",
              "      <td>233.25</td>\n",
              "      <td>5082859</td>\n",
              "      <td>11859.95</td>\n",
              "    </tr>\n",
              "    <tr>\n",
              "      <th>2</th>\n",
              "      <td>2018-09-26</td>\n",
              "      <td>240.00</td>\n",
              "      <td>240.00</td>\n",
              "      <td>232.50</td>\n",
              "      <td>235.00</td>\n",
              "      <td>234.25</td>\n",
              "      <td>2240909</td>\n",
              "      <td>5248.60</td>\n",
              "    </tr>\n",
              "    <tr>\n",
              "      <th>3</th>\n",
              "      <td>2018-09-25</td>\n",
              "      <td>233.30</td>\n",
              "      <td>236.75</td>\n",
              "      <td>232.00</td>\n",
              "      <td>236.25</td>\n",
              "      <td>236.10</td>\n",
              "      <td>2349368</td>\n",
              "      <td>5503.90</td>\n",
              "    </tr>\n",
              "    <tr>\n",
              "      <th>4</th>\n",
              "      <td>2018-09-24</td>\n",
              "      <td>233.55</td>\n",
              "      <td>239.20</td>\n",
              "      <td>230.75</td>\n",
              "      <td>234.00</td>\n",
              "      <td>233.30</td>\n",
              "      <td>3423509</td>\n",
              "      <td>7999.55</td>\n",
              "    </tr>\n",
              "  </tbody>\n",
              "</table>\n",
              "</div>\n",
              "      <button class=\"colab-df-convert\" onclick=\"convertToInteractive('df-aa3e97eb-cd6b-4897-895b-46a9b3884565')\"\n",
              "              title=\"Convert this dataframe to an interactive table.\"\n",
              "              style=\"display:none;\">\n",
              "        \n",
              "  <svg xmlns=\"http://www.w3.org/2000/svg\" height=\"24px\"viewBox=\"0 0 24 24\"\n",
              "       width=\"24px\">\n",
              "    <path d=\"M0 0h24v24H0V0z\" fill=\"none\"/>\n",
              "    <path d=\"M18.56 5.44l.94 2.06.94-2.06 2.06-.94-2.06-.94-.94-2.06-.94 2.06-2.06.94zm-11 1L8.5 8.5l.94-2.06 2.06-.94-2.06-.94L8.5 2.5l-.94 2.06-2.06.94zm10 10l.94 2.06.94-2.06 2.06-.94-2.06-.94-.94-2.06-.94 2.06-2.06.94z\"/><path d=\"M17.41 7.96l-1.37-1.37c-.4-.4-.92-.59-1.43-.59-.52 0-1.04.2-1.43.59L10.3 9.45l-7.72 7.72c-.78.78-.78 2.05 0 2.83L4 21.41c.39.39.9.59 1.41.59.51 0 1.02-.2 1.41-.59l7.78-7.78 2.81-2.81c.8-.78.8-2.07 0-2.86zM5.41 20L4 18.59l7.72-7.72 1.47 1.35L5.41 20z\"/>\n",
              "  </svg>\n",
              "      </button>\n",
              "      \n",
              "  <style>\n",
              "    .colab-df-container {\n",
              "      display:flex;\n",
              "      flex-wrap:wrap;\n",
              "      gap: 12px;\n",
              "    }\n",
              "\n",
              "    .colab-df-convert {\n",
              "      background-color: #E8F0FE;\n",
              "      border: none;\n",
              "      border-radius: 50%;\n",
              "      cursor: pointer;\n",
              "      display: none;\n",
              "      fill: #1967D2;\n",
              "      height: 32px;\n",
              "      padding: 0 0 0 0;\n",
              "      width: 32px;\n",
              "    }\n",
              "\n",
              "    .colab-df-convert:hover {\n",
              "      background-color: #E2EBFA;\n",
              "      box-shadow: 0px 1px 2px rgba(60, 64, 67, 0.3), 0px 1px 3px 1px rgba(60, 64, 67, 0.15);\n",
              "      fill: #174EA6;\n",
              "    }\n",
              "\n",
              "    [theme=dark] .colab-df-convert {\n",
              "      background-color: #3B4455;\n",
              "      fill: #D2E3FC;\n",
              "    }\n",
              "\n",
              "    [theme=dark] .colab-df-convert:hover {\n",
              "      background-color: #434B5C;\n",
              "      box-shadow: 0px 1px 3px 1px rgba(0, 0, 0, 0.15);\n",
              "      filter: drop-shadow(0px 1px 2px rgba(0, 0, 0, 0.3));\n",
              "      fill: #FFFFFF;\n",
              "    }\n",
              "  </style>\n",
              "\n",
              "      <script>\n",
              "        const buttonEl =\n",
              "          document.querySelector('#df-aa3e97eb-cd6b-4897-895b-46a9b3884565 button.colab-df-convert');\n",
              "        buttonEl.style.display =\n",
              "          google.colab.kernel.accessAllowed ? 'block' : 'none';\n",
              "\n",
              "        async function convertToInteractive(key) {\n",
              "          const element = document.querySelector('#df-aa3e97eb-cd6b-4897-895b-46a9b3884565');\n",
              "          const dataTable =\n",
              "            await google.colab.kernel.invokeFunction('convertToInteractive',\n",
              "                                                     [key], {});\n",
              "          if (!dataTable) return;\n",
              "\n",
              "          const docLinkHtml = 'Like what you see? Visit the ' +\n",
              "            '<a target=\"_blank\" href=https://colab.research.google.com/notebooks/data_table.ipynb>data table notebook</a>'\n",
              "            + ' to learn more about interactive tables.';\n",
              "          element.innerHTML = '';\n",
              "          dataTable['output_type'] = 'display_data';\n",
              "          await google.colab.output.renderOutput(dataTable, element);\n",
              "          const docLink = document.createElement('div');\n",
              "          docLink.innerHTML = docLinkHtml;\n",
              "          element.appendChild(docLink);\n",
              "        }\n",
              "      </script>\n",
              "    </div>\n",
              "  </div>\n",
              "  "
            ]
          },
          "metadata": {},
          "execution_count": 246
        }
      ],
      "source": [
        "stocks.head()"
      ]
    },
    {
      "cell_type": "code",
      "execution_count": 247,
      "metadata": {
        "colab": {
          "base_uri": "https://localhost:8080/",
          "height": 206
        },
        "id": "qellQHuKa5dU",
        "outputId": "4d4b3ae6-4d37-4c7b-f670-4a6effdf442c"
      },
      "outputs": [
        {
          "output_type": "execute_result",
          "data": {
            "text/plain": [
              "            Date   Open    High     Low    Last   Close  Total Trade Quantity  \\\n",
              "2030  2010-07-27  117.6  119.50  112.00  118.80  118.65                586100   \n",
              "2031  2010-07-26  120.1  121.00  117.10  117.10  117.60                658440   \n",
              "2032  2010-07-23  121.8  121.95  120.25  120.35  120.65                281312   \n",
              "2033  2010-07-22  120.3  122.00  120.25  120.75  120.90                293312   \n",
              "2034  2010-07-21  122.1  123.00  121.05  121.10  121.55                658666   \n",
              "\n",
              "      Turnover (Lacs)  \n",
              "2030           694.98  \n",
              "2031           780.01  \n",
              "2032           340.31  \n",
              "2033           355.17  \n",
              "2034           803.56  "
            ],
            "text/html": [
              "\n",
              "  <div id=\"df-c8f95deb-33ac-4492-8907-2bd046a6e4b8\">\n",
              "    <div class=\"colab-df-container\">\n",
              "      <div>\n",
              "<style scoped>\n",
              "    .dataframe tbody tr th:only-of-type {\n",
              "        vertical-align: middle;\n",
              "    }\n",
              "\n",
              "    .dataframe tbody tr th {\n",
              "        vertical-align: top;\n",
              "    }\n",
              "\n",
              "    .dataframe thead th {\n",
              "        text-align: right;\n",
              "    }\n",
              "</style>\n",
              "<table border=\"1\" class=\"dataframe\">\n",
              "  <thead>\n",
              "    <tr style=\"text-align: right;\">\n",
              "      <th></th>\n",
              "      <th>Date</th>\n",
              "      <th>Open</th>\n",
              "      <th>High</th>\n",
              "      <th>Low</th>\n",
              "      <th>Last</th>\n",
              "      <th>Close</th>\n",
              "      <th>Total Trade Quantity</th>\n",
              "      <th>Turnover (Lacs)</th>\n",
              "    </tr>\n",
              "  </thead>\n",
              "  <tbody>\n",
              "    <tr>\n",
              "      <th>2030</th>\n",
              "      <td>2010-07-27</td>\n",
              "      <td>117.6</td>\n",
              "      <td>119.50</td>\n",
              "      <td>112.00</td>\n",
              "      <td>118.80</td>\n",
              "      <td>118.65</td>\n",
              "      <td>586100</td>\n",
              "      <td>694.98</td>\n",
              "    </tr>\n",
              "    <tr>\n",
              "      <th>2031</th>\n",
              "      <td>2010-07-26</td>\n",
              "      <td>120.1</td>\n",
              "      <td>121.00</td>\n",
              "      <td>117.10</td>\n",
              "      <td>117.10</td>\n",
              "      <td>117.60</td>\n",
              "      <td>658440</td>\n",
              "      <td>780.01</td>\n",
              "    </tr>\n",
              "    <tr>\n",
              "      <th>2032</th>\n",
              "      <td>2010-07-23</td>\n",
              "      <td>121.8</td>\n",
              "      <td>121.95</td>\n",
              "      <td>120.25</td>\n",
              "      <td>120.35</td>\n",
              "      <td>120.65</td>\n",
              "      <td>281312</td>\n",
              "      <td>340.31</td>\n",
              "    </tr>\n",
              "    <tr>\n",
              "      <th>2033</th>\n",
              "      <td>2010-07-22</td>\n",
              "      <td>120.3</td>\n",
              "      <td>122.00</td>\n",
              "      <td>120.25</td>\n",
              "      <td>120.75</td>\n",
              "      <td>120.90</td>\n",
              "      <td>293312</td>\n",
              "      <td>355.17</td>\n",
              "    </tr>\n",
              "    <tr>\n",
              "      <th>2034</th>\n",
              "      <td>2010-07-21</td>\n",
              "      <td>122.1</td>\n",
              "      <td>123.00</td>\n",
              "      <td>121.05</td>\n",
              "      <td>121.10</td>\n",
              "      <td>121.55</td>\n",
              "      <td>658666</td>\n",
              "      <td>803.56</td>\n",
              "    </tr>\n",
              "  </tbody>\n",
              "</table>\n",
              "</div>\n",
              "      <button class=\"colab-df-convert\" onclick=\"convertToInteractive('df-c8f95deb-33ac-4492-8907-2bd046a6e4b8')\"\n",
              "              title=\"Convert this dataframe to an interactive table.\"\n",
              "              style=\"display:none;\">\n",
              "        \n",
              "  <svg xmlns=\"http://www.w3.org/2000/svg\" height=\"24px\"viewBox=\"0 0 24 24\"\n",
              "       width=\"24px\">\n",
              "    <path d=\"M0 0h24v24H0V0z\" fill=\"none\"/>\n",
              "    <path d=\"M18.56 5.44l.94 2.06.94-2.06 2.06-.94-2.06-.94-.94-2.06-.94 2.06-2.06.94zm-11 1L8.5 8.5l.94-2.06 2.06-.94-2.06-.94L8.5 2.5l-.94 2.06-2.06.94zm10 10l.94 2.06.94-2.06 2.06-.94-2.06-.94-.94-2.06-.94 2.06-2.06.94z\"/><path d=\"M17.41 7.96l-1.37-1.37c-.4-.4-.92-.59-1.43-.59-.52 0-1.04.2-1.43.59L10.3 9.45l-7.72 7.72c-.78.78-.78 2.05 0 2.83L4 21.41c.39.39.9.59 1.41.59.51 0 1.02-.2 1.41-.59l7.78-7.78 2.81-2.81c.8-.78.8-2.07 0-2.86zM5.41 20L4 18.59l7.72-7.72 1.47 1.35L5.41 20z\"/>\n",
              "  </svg>\n",
              "      </button>\n",
              "      \n",
              "  <style>\n",
              "    .colab-df-container {\n",
              "      display:flex;\n",
              "      flex-wrap:wrap;\n",
              "      gap: 12px;\n",
              "    }\n",
              "\n",
              "    .colab-df-convert {\n",
              "      background-color: #E8F0FE;\n",
              "      border: none;\n",
              "      border-radius: 50%;\n",
              "      cursor: pointer;\n",
              "      display: none;\n",
              "      fill: #1967D2;\n",
              "      height: 32px;\n",
              "      padding: 0 0 0 0;\n",
              "      width: 32px;\n",
              "    }\n",
              "\n",
              "    .colab-df-convert:hover {\n",
              "      background-color: #E2EBFA;\n",
              "      box-shadow: 0px 1px 2px rgba(60, 64, 67, 0.3), 0px 1px 3px 1px rgba(60, 64, 67, 0.15);\n",
              "      fill: #174EA6;\n",
              "    }\n",
              "\n",
              "    [theme=dark] .colab-df-convert {\n",
              "      background-color: #3B4455;\n",
              "      fill: #D2E3FC;\n",
              "    }\n",
              "\n",
              "    [theme=dark] .colab-df-convert:hover {\n",
              "      background-color: #434B5C;\n",
              "      box-shadow: 0px 1px 3px 1px rgba(0, 0, 0, 0.15);\n",
              "      filter: drop-shadow(0px 1px 2px rgba(0, 0, 0, 0.3));\n",
              "      fill: #FFFFFF;\n",
              "    }\n",
              "  </style>\n",
              "\n",
              "      <script>\n",
              "        const buttonEl =\n",
              "          document.querySelector('#df-c8f95deb-33ac-4492-8907-2bd046a6e4b8 button.colab-df-convert');\n",
              "        buttonEl.style.display =\n",
              "          google.colab.kernel.accessAllowed ? 'block' : 'none';\n",
              "\n",
              "        async function convertToInteractive(key) {\n",
              "          const element = document.querySelector('#df-c8f95deb-33ac-4492-8907-2bd046a6e4b8');\n",
              "          const dataTable =\n",
              "            await google.colab.kernel.invokeFunction('convertToInteractive',\n",
              "                                                     [key], {});\n",
              "          if (!dataTable) return;\n",
              "\n",
              "          const docLinkHtml = 'Like what you see? Visit the ' +\n",
              "            '<a target=\"_blank\" href=https://colab.research.google.com/notebooks/data_table.ipynb>data table notebook</a>'\n",
              "            + ' to learn more about interactive tables.';\n",
              "          element.innerHTML = '';\n",
              "          dataTable['output_type'] = 'display_data';\n",
              "          await google.colab.output.renderOutput(dataTable, element);\n",
              "          const docLink = document.createElement('div');\n",
              "          docLink.innerHTML = docLinkHtml;\n",
              "          element.appendChild(docLink);\n",
              "        }\n",
              "      </script>\n",
              "    </div>\n",
              "  </div>\n",
              "  "
            ]
          },
          "metadata": {},
          "execution_count": 247
        }
      ],
      "source": [
        "stocks.tail()"
      ]
    },
    {
      "cell_type": "code",
      "execution_count": 248,
      "metadata": {
        "colab": {
          "base_uri": "https://localhost:8080/"
        },
        "id": "38KKYQnua7fy",
        "outputId": "e66582ee-676e-499c-c62f-c123282b1238"
      },
      "outputs": [
        {
          "output_type": "execute_result",
          "data": {
            "text/plain": [
              "(2035, 8)"
            ]
          },
          "metadata": {},
          "execution_count": 248
        }
      ],
      "source": [
        "stocks.shape"
      ]
    },
    {
      "cell_type": "code",
      "execution_count": 249,
      "metadata": {
        "colab": {
          "base_uri": "https://localhost:8080/"
        },
        "id": "FPVluLoIbF8n",
        "outputId": "73ccc2bb-36e0-4e77-8512-7eee5c89ed15"
      },
      "outputs": [
        {
          "output_type": "stream",
          "name": "stdout",
          "text": [
            "<class 'pandas.core.frame.DataFrame'>\n",
            "RangeIndex: 2035 entries, 0 to 2034\n",
            "Data columns (total 8 columns):\n",
            " #   Column                Non-Null Count  Dtype  \n",
            "---  ------                --------------  -----  \n",
            " 0   Date                  2035 non-null   object \n",
            " 1   Open                  2035 non-null   float64\n",
            " 2   High                  2035 non-null   float64\n",
            " 3   Low                   2035 non-null   float64\n",
            " 4   Last                  2035 non-null   float64\n",
            " 5   Close                 2035 non-null   float64\n",
            " 6   Total Trade Quantity  2035 non-null   int64  \n",
            " 7   Turnover (Lacs)       2035 non-null   float64\n",
            "dtypes: float64(6), int64(1), object(1)\n",
            "memory usage: 127.3+ KB\n"
          ]
        }
      ],
      "source": [
        "stocks.info()"
      ]
    },
    {
      "cell_type": "code",
      "execution_count": 250,
      "metadata": {
        "colab": {
          "base_uri": "https://localhost:8080/",
          "height": 300
        },
        "id": "r1d2dYIwbJU7",
        "outputId": "ec7de540-4be1-4f9e-b699-eadf5acd4111"
      },
      "outputs": [
        {
          "output_type": "execute_result",
          "data": {
            "text/plain": [
              "              Open         High          Low         Last       Close  \\\n",
              "count  2035.000000  2035.000000  2035.000000  2035.000000  2035.00000   \n",
              "mean    149.713735   151.992826   147.293931   149.474251   149.45027   \n",
              "std      48.664509    49.413109    47.931958    48.732570    48.71204   \n",
              "min      81.100000    82.800000    80.000000    81.000000    80.95000   \n",
              "25%     120.025000   122.100000   118.300000   120.075000   120.05000   \n",
              "50%     141.500000   143.400000   139.600000   141.100000   141.25000   \n",
              "75%     157.175000   159.400000   155.150000   156.925000   156.90000   \n",
              "max     327.700000   328.750000   321.650000   325.950000   325.75000   \n",
              "\n",
              "       Total Trade Quantity  Turnover (Lacs)  \n",
              "count          2.035000e+03      2035.000000  \n",
              "mean           2.335681e+06      3899.980565  \n",
              "std            2.091778e+06      4570.767877  \n",
              "min            3.961000e+04        37.040000  \n",
              "25%            1.146444e+06      1427.460000  \n",
              "50%            1.783456e+06      2512.030000  \n",
              "75%            2.813594e+06      4539.015000  \n",
              "max            2.919102e+07     55755.080000  "
            ],
            "text/html": [
              "\n",
              "  <div id=\"df-b6e32034-68bf-49d3-ac80-b03f5c4279ce\">\n",
              "    <div class=\"colab-df-container\">\n",
              "      <div>\n",
              "<style scoped>\n",
              "    .dataframe tbody tr th:only-of-type {\n",
              "        vertical-align: middle;\n",
              "    }\n",
              "\n",
              "    .dataframe tbody tr th {\n",
              "        vertical-align: top;\n",
              "    }\n",
              "\n",
              "    .dataframe thead th {\n",
              "        text-align: right;\n",
              "    }\n",
              "</style>\n",
              "<table border=\"1\" class=\"dataframe\">\n",
              "  <thead>\n",
              "    <tr style=\"text-align: right;\">\n",
              "      <th></th>\n",
              "      <th>Open</th>\n",
              "      <th>High</th>\n",
              "      <th>Low</th>\n",
              "      <th>Last</th>\n",
              "      <th>Close</th>\n",
              "      <th>Total Trade Quantity</th>\n",
              "      <th>Turnover (Lacs)</th>\n",
              "    </tr>\n",
              "  </thead>\n",
              "  <tbody>\n",
              "    <tr>\n",
              "      <th>count</th>\n",
              "      <td>2035.000000</td>\n",
              "      <td>2035.000000</td>\n",
              "      <td>2035.000000</td>\n",
              "      <td>2035.000000</td>\n",
              "      <td>2035.00000</td>\n",
              "      <td>2.035000e+03</td>\n",
              "      <td>2035.000000</td>\n",
              "    </tr>\n",
              "    <tr>\n",
              "      <th>mean</th>\n",
              "      <td>149.713735</td>\n",
              "      <td>151.992826</td>\n",
              "      <td>147.293931</td>\n",
              "      <td>149.474251</td>\n",
              "      <td>149.45027</td>\n",
              "      <td>2.335681e+06</td>\n",
              "      <td>3899.980565</td>\n",
              "    </tr>\n",
              "    <tr>\n",
              "      <th>std</th>\n",
              "      <td>48.664509</td>\n",
              "      <td>49.413109</td>\n",
              "      <td>47.931958</td>\n",
              "      <td>48.732570</td>\n",
              "      <td>48.71204</td>\n",
              "      <td>2.091778e+06</td>\n",
              "      <td>4570.767877</td>\n",
              "    </tr>\n",
              "    <tr>\n",
              "      <th>min</th>\n",
              "      <td>81.100000</td>\n",
              "      <td>82.800000</td>\n",
              "      <td>80.000000</td>\n",
              "      <td>81.000000</td>\n",
              "      <td>80.95000</td>\n",
              "      <td>3.961000e+04</td>\n",
              "      <td>37.040000</td>\n",
              "    </tr>\n",
              "    <tr>\n",
              "      <th>25%</th>\n",
              "      <td>120.025000</td>\n",
              "      <td>122.100000</td>\n",
              "      <td>118.300000</td>\n",
              "      <td>120.075000</td>\n",
              "      <td>120.05000</td>\n",
              "      <td>1.146444e+06</td>\n",
              "      <td>1427.460000</td>\n",
              "    </tr>\n",
              "    <tr>\n",
              "      <th>50%</th>\n",
              "      <td>141.500000</td>\n",
              "      <td>143.400000</td>\n",
              "      <td>139.600000</td>\n",
              "      <td>141.100000</td>\n",
              "      <td>141.25000</td>\n",
              "      <td>1.783456e+06</td>\n",
              "      <td>2512.030000</td>\n",
              "    </tr>\n",
              "    <tr>\n",
              "      <th>75%</th>\n",
              "      <td>157.175000</td>\n",
              "      <td>159.400000</td>\n",
              "      <td>155.150000</td>\n",
              "      <td>156.925000</td>\n",
              "      <td>156.90000</td>\n",
              "      <td>2.813594e+06</td>\n",
              "      <td>4539.015000</td>\n",
              "    </tr>\n",
              "    <tr>\n",
              "      <th>max</th>\n",
              "      <td>327.700000</td>\n",
              "      <td>328.750000</td>\n",
              "      <td>321.650000</td>\n",
              "      <td>325.950000</td>\n",
              "      <td>325.75000</td>\n",
              "      <td>2.919102e+07</td>\n",
              "      <td>55755.080000</td>\n",
              "    </tr>\n",
              "  </tbody>\n",
              "</table>\n",
              "</div>\n",
              "      <button class=\"colab-df-convert\" onclick=\"convertToInteractive('df-b6e32034-68bf-49d3-ac80-b03f5c4279ce')\"\n",
              "              title=\"Convert this dataframe to an interactive table.\"\n",
              "              style=\"display:none;\">\n",
              "        \n",
              "  <svg xmlns=\"http://www.w3.org/2000/svg\" height=\"24px\"viewBox=\"0 0 24 24\"\n",
              "       width=\"24px\">\n",
              "    <path d=\"M0 0h24v24H0V0z\" fill=\"none\"/>\n",
              "    <path d=\"M18.56 5.44l.94 2.06.94-2.06 2.06-.94-2.06-.94-.94-2.06-.94 2.06-2.06.94zm-11 1L8.5 8.5l.94-2.06 2.06-.94-2.06-.94L8.5 2.5l-.94 2.06-2.06.94zm10 10l.94 2.06.94-2.06 2.06-.94-2.06-.94-.94-2.06-.94 2.06-2.06.94z\"/><path d=\"M17.41 7.96l-1.37-1.37c-.4-.4-.92-.59-1.43-.59-.52 0-1.04.2-1.43.59L10.3 9.45l-7.72 7.72c-.78.78-.78 2.05 0 2.83L4 21.41c.39.39.9.59 1.41.59.51 0 1.02-.2 1.41-.59l7.78-7.78 2.81-2.81c.8-.78.8-2.07 0-2.86zM5.41 20L4 18.59l7.72-7.72 1.47 1.35L5.41 20z\"/>\n",
              "  </svg>\n",
              "      </button>\n",
              "      \n",
              "  <style>\n",
              "    .colab-df-container {\n",
              "      display:flex;\n",
              "      flex-wrap:wrap;\n",
              "      gap: 12px;\n",
              "    }\n",
              "\n",
              "    .colab-df-convert {\n",
              "      background-color: #E8F0FE;\n",
              "      border: none;\n",
              "      border-radius: 50%;\n",
              "      cursor: pointer;\n",
              "      display: none;\n",
              "      fill: #1967D2;\n",
              "      height: 32px;\n",
              "      padding: 0 0 0 0;\n",
              "      width: 32px;\n",
              "    }\n",
              "\n",
              "    .colab-df-convert:hover {\n",
              "      background-color: #E2EBFA;\n",
              "      box-shadow: 0px 1px 2px rgba(60, 64, 67, 0.3), 0px 1px 3px 1px rgba(60, 64, 67, 0.15);\n",
              "      fill: #174EA6;\n",
              "    }\n",
              "\n",
              "    [theme=dark] .colab-df-convert {\n",
              "      background-color: #3B4455;\n",
              "      fill: #D2E3FC;\n",
              "    }\n",
              "\n",
              "    [theme=dark] .colab-df-convert:hover {\n",
              "      background-color: #434B5C;\n",
              "      box-shadow: 0px 1px 3px 1px rgba(0, 0, 0, 0.15);\n",
              "      filter: drop-shadow(0px 1px 2px rgba(0, 0, 0, 0.3));\n",
              "      fill: #FFFFFF;\n",
              "    }\n",
              "  </style>\n",
              "\n",
              "      <script>\n",
              "        const buttonEl =\n",
              "          document.querySelector('#df-b6e32034-68bf-49d3-ac80-b03f5c4279ce button.colab-df-convert');\n",
              "        buttonEl.style.display =\n",
              "          google.colab.kernel.accessAllowed ? 'block' : 'none';\n",
              "\n",
              "        async function convertToInteractive(key) {\n",
              "          const element = document.querySelector('#df-b6e32034-68bf-49d3-ac80-b03f5c4279ce');\n",
              "          const dataTable =\n",
              "            await google.colab.kernel.invokeFunction('convertToInteractive',\n",
              "                                                     [key], {});\n",
              "          if (!dataTable) return;\n",
              "\n",
              "          const docLinkHtml = 'Like what you see? Visit the ' +\n",
              "            '<a target=\"_blank\" href=https://colab.research.google.com/notebooks/data_table.ipynb>data table notebook</a>'\n",
              "            + ' to learn more about interactive tables.';\n",
              "          element.innerHTML = '';\n",
              "          dataTable['output_type'] = 'display_data';\n",
              "          await google.colab.output.renderOutput(dataTable, element);\n",
              "          const docLink = document.createElement('div');\n",
              "          docLink.innerHTML = docLinkHtml;\n",
              "          element.appendChild(docLink);\n",
              "        }\n",
              "      </script>\n",
              "    </div>\n",
              "  </div>\n",
              "  "
            ]
          },
          "metadata": {},
          "execution_count": 250
        }
      ],
      "source": [
        "stocks.describe()"
      ]
    },
    {
      "cell_type": "code",
      "execution_count": 251,
      "metadata": {
        "colab": {
          "base_uri": "https://localhost:8080/"
        },
        "id": "nrbBNX7gbRD-",
        "outputId": "91776c37-a1df-4e7f-95ac-bd28cbb0e7e5"
      },
      "outputs": [
        {
          "output_type": "execute_result",
          "data": {
            "text/plain": [
              "Index(['Date', 'Open', 'High', 'Low', 'Last', 'Close', 'Total Trade Quantity',\n",
              "       'Turnover (Lacs)'],\n",
              "      dtype='object')"
            ]
          },
          "metadata": {},
          "execution_count": 251
        }
      ],
      "source": [
        "stocks.columns"
      ]
    },
    {
      "cell_type": "code",
      "execution_count": 252,
      "metadata": {
        "colab": {
          "base_uri": "https://localhost:8080/",
          "height": 269
        },
        "id": "Bhl7CxvHbWh6",
        "outputId": "21bbeccf-aec2-4442-c897-b634941b90ab"
      },
      "outputs": [
        {
          "output_type": "execute_result",
          "data": {
            "text/plain": [
              "                          Open      High       Low      Last     Close  \\\n",
              "Open                  1.000000  0.999015  0.998825  0.997781  0.997840   \n",
              "High                  0.999015  1.000000  0.998773  0.999155  0.999194   \n",
              "Low                   0.998825  0.998773  1.000000  0.999051  0.999119   \n",
              "Last                  0.997781  0.999155  0.999051  1.000000  0.999961   \n",
              "Close                 0.997840  0.999194  0.999119  0.999961  1.000000   \n",
              "Total Trade Quantity  0.385951  0.406405  0.380621  0.399328  0.398911   \n",
              "Turnover (Lacs)       0.612877  0.630589  0.608502  0.624584  0.624213   \n",
              "\n",
              "                      Total Trade Quantity  Turnover (Lacs)  \n",
              "Open                              0.385951         0.612877  \n",
              "High                              0.406405         0.630589  \n",
              "Low                               0.380621         0.608502  \n",
              "Last                              0.399328         0.624584  \n",
              "Close                             0.398911         0.624213  \n",
              "Total Trade Quantity              1.000000         0.926931  \n",
              "Turnover (Lacs)                   0.926931         1.000000  "
            ],
            "text/html": [
              "\n",
              "  <div id=\"df-8b846f3b-2ad4-4630-82bb-e16f4908d9c7\">\n",
              "    <div class=\"colab-df-container\">\n",
              "      <div>\n",
              "<style scoped>\n",
              "    .dataframe tbody tr th:only-of-type {\n",
              "        vertical-align: middle;\n",
              "    }\n",
              "\n",
              "    .dataframe tbody tr th {\n",
              "        vertical-align: top;\n",
              "    }\n",
              "\n",
              "    .dataframe thead th {\n",
              "        text-align: right;\n",
              "    }\n",
              "</style>\n",
              "<table border=\"1\" class=\"dataframe\">\n",
              "  <thead>\n",
              "    <tr style=\"text-align: right;\">\n",
              "      <th></th>\n",
              "      <th>Open</th>\n",
              "      <th>High</th>\n",
              "      <th>Low</th>\n",
              "      <th>Last</th>\n",
              "      <th>Close</th>\n",
              "      <th>Total Trade Quantity</th>\n",
              "      <th>Turnover (Lacs)</th>\n",
              "    </tr>\n",
              "  </thead>\n",
              "  <tbody>\n",
              "    <tr>\n",
              "      <th>Open</th>\n",
              "      <td>1.000000</td>\n",
              "      <td>0.999015</td>\n",
              "      <td>0.998825</td>\n",
              "      <td>0.997781</td>\n",
              "      <td>0.997840</td>\n",
              "      <td>0.385951</td>\n",
              "      <td>0.612877</td>\n",
              "    </tr>\n",
              "    <tr>\n",
              "      <th>High</th>\n",
              "      <td>0.999015</td>\n",
              "      <td>1.000000</td>\n",
              "      <td>0.998773</td>\n",
              "      <td>0.999155</td>\n",
              "      <td>0.999194</td>\n",
              "      <td>0.406405</td>\n",
              "      <td>0.630589</td>\n",
              "    </tr>\n",
              "    <tr>\n",
              "      <th>Low</th>\n",
              "      <td>0.998825</td>\n",
              "      <td>0.998773</td>\n",
              "      <td>1.000000</td>\n",
              "      <td>0.999051</td>\n",
              "      <td>0.999119</td>\n",
              "      <td>0.380621</td>\n",
              "      <td>0.608502</td>\n",
              "    </tr>\n",
              "    <tr>\n",
              "      <th>Last</th>\n",
              "      <td>0.997781</td>\n",
              "      <td>0.999155</td>\n",
              "      <td>0.999051</td>\n",
              "      <td>1.000000</td>\n",
              "      <td>0.999961</td>\n",
              "      <td>0.399328</td>\n",
              "      <td>0.624584</td>\n",
              "    </tr>\n",
              "    <tr>\n",
              "      <th>Close</th>\n",
              "      <td>0.997840</td>\n",
              "      <td>0.999194</td>\n",
              "      <td>0.999119</td>\n",
              "      <td>0.999961</td>\n",
              "      <td>1.000000</td>\n",
              "      <td>0.398911</td>\n",
              "      <td>0.624213</td>\n",
              "    </tr>\n",
              "    <tr>\n",
              "      <th>Total Trade Quantity</th>\n",
              "      <td>0.385951</td>\n",
              "      <td>0.406405</td>\n",
              "      <td>0.380621</td>\n",
              "      <td>0.399328</td>\n",
              "      <td>0.398911</td>\n",
              "      <td>1.000000</td>\n",
              "      <td>0.926931</td>\n",
              "    </tr>\n",
              "    <tr>\n",
              "      <th>Turnover (Lacs)</th>\n",
              "      <td>0.612877</td>\n",
              "      <td>0.630589</td>\n",
              "      <td>0.608502</td>\n",
              "      <td>0.624584</td>\n",
              "      <td>0.624213</td>\n",
              "      <td>0.926931</td>\n",
              "      <td>1.000000</td>\n",
              "    </tr>\n",
              "  </tbody>\n",
              "</table>\n",
              "</div>\n",
              "      <button class=\"colab-df-convert\" onclick=\"convertToInteractive('df-8b846f3b-2ad4-4630-82bb-e16f4908d9c7')\"\n",
              "              title=\"Convert this dataframe to an interactive table.\"\n",
              "              style=\"display:none;\">\n",
              "        \n",
              "  <svg xmlns=\"http://www.w3.org/2000/svg\" height=\"24px\"viewBox=\"0 0 24 24\"\n",
              "       width=\"24px\">\n",
              "    <path d=\"M0 0h24v24H0V0z\" fill=\"none\"/>\n",
              "    <path d=\"M18.56 5.44l.94 2.06.94-2.06 2.06-.94-2.06-.94-.94-2.06-.94 2.06-2.06.94zm-11 1L8.5 8.5l.94-2.06 2.06-.94-2.06-.94L8.5 2.5l-.94 2.06-2.06.94zm10 10l.94 2.06.94-2.06 2.06-.94-2.06-.94-.94-2.06-.94 2.06-2.06.94z\"/><path d=\"M17.41 7.96l-1.37-1.37c-.4-.4-.92-.59-1.43-.59-.52 0-1.04.2-1.43.59L10.3 9.45l-7.72 7.72c-.78.78-.78 2.05 0 2.83L4 21.41c.39.39.9.59 1.41.59.51 0 1.02-.2 1.41-.59l7.78-7.78 2.81-2.81c.8-.78.8-2.07 0-2.86zM5.41 20L4 18.59l7.72-7.72 1.47 1.35L5.41 20z\"/>\n",
              "  </svg>\n",
              "      </button>\n",
              "      \n",
              "  <style>\n",
              "    .colab-df-container {\n",
              "      display:flex;\n",
              "      flex-wrap:wrap;\n",
              "      gap: 12px;\n",
              "    }\n",
              "\n",
              "    .colab-df-convert {\n",
              "      background-color: #E8F0FE;\n",
              "      border: none;\n",
              "      border-radius: 50%;\n",
              "      cursor: pointer;\n",
              "      display: none;\n",
              "      fill: #1967D2;\n",
              "      height: 32px;\n",
              "      padding: 0 0 0 0;\n",
              "      width: 32px;\n",
              "    }\n",
              "\n",
              "    .colab-df-convert:hover {\n",
              "      background-color: #E2EBFA;\n",
              "      box-shadow: 0px 1px 2px rgba(60, 64, 67, 0.3), 0px 1px 3px 1px rgba(60, 64, 67, 0.15);\n",
              "      fill: #174EA6;\n",
              "    }\n",
              "\n",
              "    [theme=dark] .colab-df-convert {\n",
              "      background-color: #3B4455;\n",
              "      fill: #D2E3FC;\n",
              "    }\n",
              "\n",
              "    [theme=dark] .colab-df-convert:hover {\n",
              "      background-color: #434B5C;\n",
              "      box-shadow: 0px 1px 3px 1px rgba(0, 0, 0, 0.15);\n",
              "      filter: drop-shadow(0px 1px 2px rgba(0, 0, 0, 0.3));\n",
              "      fill: #FFFFFF;\n",
              "    }\n",
              "  </style>\n",
              "\n",
              "      <script>\n",
              "        const buttonEl =\n",
              "          document.querySelector('#df-8b846f3b-2ad4-4630-82bb-e16f4908d9c7 button.colab-df-convert');\n",
              "        buttonEl.style.display =\n",
              "          google.colab.kernel.accessAllowed ? 'block' : 'none';\n",
              "\n",
              "        async function convertToInteractive(key) {\n",
              "          const element = document.querySelector('#df-8b846f3b-2ad4-4630-82bb-e16f4908d9c7');\n",
              "          const dataTable =\n",
              "            await google.colab.kernel.invokeFunction('convertToInteractive',\n",
              "                                                     [key], {});\n",
              "          if (!dataTable) return;\n",
              "\n",
              "          const docLinkHtml = 'Like what you see? Visit the ' +\n",
              "            '<a target=\"_blank\" href=https://colab.research.google.com/notebooks/data_table.ipynb>data table notebook</a>'\n",
              "            + ' to learn more about interactive tables.';\n",
              "          element.innerHTML = '';\n",
              "          dataTable['output_type'] = 'display_data';\n",
              "          await google.colab.output.renderOutput(dataTable, element);\n",
              "          const docLink = document.createElement('div');\n",
              "          docLink.innerHTML = docLinkHtml;\n",
              "          element.appendChild(docLink);\n",
              "        }\n",
              "      </script>\n",
              "    </div>\n",
              "  </div>\n",
              "  "
            ]
          },
          "metadata": {},
          "execution_count": 252
        }
      ],
      "source": [
        "stocks.corr()"
      ]
    },
    {
      "cell_type": "code",
      "execution_count": 253,
      "metadata": {
        "colab": {
          "base_uri": "https://localhost:8080/"
        },
        "id": "0_uGJenZbY3q",
        "outputId": "e0551b10-7062-4087-d971-e102c6060ed5"
      },
      "outputs": [
        {
          "output_type": "execute_result",
          "data": {
            "text/plain": [
              "<bound method DataFrame.nunique of             Date    Open    High     Low    Last   Close  \\\n",
              "0     2018-09-28  234.05  235.95  230.20  233.50  233.75   \n",
              "1     2018-09-27  234.55  236.80  231.10  233.80  233.25   \n",
              "2     2018-09-26  240.00  240.00  232.50  235.00  234.25   \n",
              "3     2018-09-25  233.30  236.75  232.00  236.25  236.10   \n",
              "4     2018-09-24  233.55  239.20  230.75  234.00  233.30   \n",
              "...          ...     ...     ...     ...     ...     ...   \n",
              "2030  2010-07-27  117.60  119.50  112.00  118.80  118.65   \n",
              "2031  2010-07-26  120.10  121.00  117.10  117.10  117.60   \n",
              "2032  2010-07-23  121.80  121.95  120.25  120.35  120.65   \n",
              "2033  2010-07-22  120.30  122.00  120.25  120.75  120.90   \n",
              "2034  2010-07-21  122.10  123.00  121.05  121.10  121.55   \n",
              "\n",
              "      Total Trade Quantity  Turnover (Lacs)  \n",
              "0                  3069914          7162.35  \n",
              "1                  5082859         11859.95  \n",
              "2                  2240909          5248.60  \n",
              "3                  2349368          5503.90  \n",
              "4                  3423509          7999.55  \n",
              "...                    ...              ...  \n",
              "2030                586100           694.98  \n",
              "2031                658440           780.01  \n",
              "2032                281312           340.31  \n",
              "2033                293312           355.17  \n",
              "2034                658666           803.56  \n",
              "\n",
              "[2035 rows x 8 columns]>"
            ]
          },
          "metadata": {},
          "execution_count": 253
        }
      ],
      "source": [
        "stocks.nunique"
      ]
    },
    {
      "cell_type": "code",
      "execution_count": 254,
      "metadata": {
        "id": "T3K-QEspcLrG"
      },
      "outputs": [],
      "source": [
        "stp1=stocks.reset_index()['Close']"
      ]
    },
    {
      "cell_type": "code",
      "execution_count": 255,
      "metadata": {
        "colab": {
          "base_uri": "https://localhost:8080/"
        },
        "id": "c7KFAq95cwNN",
        "outputId": "a57d8dda-d9cf-4e26-ae02-7dc0cc204180"
      },
      "outputs": [
        {
          "output_type": "execute_result",
          "data": {
            "text/plain": [
              "0       233.75\n",
              "1       233.25\n",
              "2       234.25\n",
              "3       236.10\n",
              "4       233.30\n",
              "         ...  \n",
              "2030    118.65\n",
              "2031    117.60\n",
              "2032    120.65\n",
              "2033    120.90\n",
              "2034    121.55\n",
              "Name: Close, Length: 2035, dtype: float64"
            ]
          },
          "metadata": {},
          "execution_count": 255
        }
      ],
      "source": [
        "stp1"
      ]
    },
    {
      "cell_type": "code",
      "execution_count": 256,
      "metadata": {
        "colab": {
          "base_uri": "https://localhost:8080/",
          "height": 283
        },
        "id": "zbinSW47dr3w",
        "outputId": "692b4ec9-7285-4de3-bfea-153e8d2e00a3"
      },
      "outputs": [
        {
          "output_type": "execute_result",
          "data": {
            "text/plain": [
              "[<matplotlib.lines.Line2D at 0x7f605f2d1ed0>]"
            ]
          },
          "metadata": {},
          "execution_count": 256
        },
        {
          "output_type": "display_data",
          "data": {
            "text/plain": [
              "<Figure size 432x288 with 1 Axes>"
            ],
            "image/png": "[encoded data removed]"
          },
          "metadata": {
            "needs_background": "light"
          }
        }
      ],
      "source": [
        "plt.plot((stp1),color=\"b\")"
      ]
    },
    {
      "cell_type": "code",
      "execution_count": 257,
      "metadata": {
        "id": "ru_E3a0Md3WY"
      },
      "outputs": [],
      "source": [
        "from sklearn.preprocessing import MinMaxScaler\n",
        "scaler=MinMaxScaler(feature_range=(0,1))\n",
        "stp1=scaler.fit_transform(np.array(stp1).reshape(-1,1))"
      ]
    },
    {
      "cell_type": "code",
      "execution_count": 258,
      "metadata": {
        "id": "b2uqgjpRf6ek"
      },
      "outputs": [],
      "source": [
        "train_size=int(len(stp1)*0.75)\n",
        "test_size=len(stp1)-train_size\n",
        "train_data,test_data=stp1[0:train_size,:],stp1[train_size:len(stp1),:1]"
      ]
    },
    {
      "cell_type": "code",
      "execution_count": 259,
      "metadata": {
        "colab": {
          "base_uri": "https://localhost:8080/"
        },
        "id": "0wrOcfengvBg",
        "outputId": "b9ecd414-309a-43ae-a847-2b570e0d7886"
      },
      "outputs": [
        {
          "output_type": "execute_result",
          "data": {
            "text/plain": [
              "(1526, 509)"
            ]
          },
          "metadata": {},
          "execution_count": 259
        }
      ],
      "source": [
        "train_size,test_size"
      ]
    },
    {
      "cell_type": "code",
      "execution_count": 260,
      "metadata": {
        "id": "x_CZXw0Ah0d_"
      },
      "outputs": [],
      "source": [
        "def create_dataset(dataset, time_step=1):\n",
        "    dataX, dataY = [], []\n",
        "    for i in range(len(dataset)-time_step-1):\n",
        "        a = dataset[i:(i+time_step), 0]\n",
        "        dataX.append(a)\n",
        "        dataY.append(dataset[i + time_step, 0])\n",
        "        return np.array(dataX), np.array(dataY)\n",
        "time_step = 100\n",
        "X_train, y_train = create_dataset(train_data, time_step)\n",
        "X_test, ytest = create_dataset(test_data, time_step)"
      ]
    },
    {
      "cell_type": "code",
      "execution_count": 261,
      "metadata": {
        "id": "av6jiSOukFeT"
      },
      "outputs": [],
      "source": [
        "#reshaping input (samples ,timesteps etc) as per requirment of LSTM\n",
        "X_train =X_train.reshape(X_train.shape[0],X_train.shape[1] , 1)\n",
        "X_test = X_test.reshape(X_test.shape[0],X_test.shape[1] , 1)"
      ]
    },
    {
      "cell_type": "code",
      "execution_count": 262,
      "metadata": {
        "id": "JakfgApkkal8"
      },
      "outputs": [],
      "source": [
        "from tensorflow.keras.models import Sequential\n",
        "from tensorflow.keras.layers import Dense\n",
        "from tensorflow.keras.layers import LSTM"
      ]
    },
    {
      "cell_type": "code",
      "execution_count": 263,
      "metadata": {
        "id": "gDlwInxHkoDv"
      },
      "outputs": [],
      "source": [
        "model=Sequential()\n",
        "model.add(LSTM(50,return_sequences=True,input_shape=(100,1)))\n",
        "model.add(LSTM(50,return_sequences=True))\n",
        "model.add(LSTM(50))\n",
        "model.add(Dense(1))\n",
        "model.compile(loss='mean_squared_error',optimizer='adam')"
      ]
    },
    {
      "cell_type": "code",
      "execution_count": 264,
      "metadata": {
        "colab": {
          "base_uri": "https://localhost:8080/"
        },
        "id": "4Dy280sxktYi",
        "outputId": "3eaf028a-7a9f-4401-de5f-65759fd2f39f"
      },
      "outputs": [
        {
          "output_type": "stream",
          "name": "stdout",
          "text": [
            "Model: \"sequential_8\"\n",
            "_________________________________________________________________\n",
            " Layer (type)                Output Shape              Param #   \n",
            "=================================================================\n",
            " lstm_24 (LSTM)              (None, 100, 50)           10400     \n",
            "                                                                 \n",
            " lstm_25 (LSTM)              (None, 100, 50)           20200     \n",
            "                                                                 \n",
            " lstm_26 (LSTM)              (None, 50)                20200     \n",
            "                                                                 \n",
            " dense_8 (Dense)             (None, 1)                 51        \n",
            "                                                                 \n",
            "=================================================================\n",
            "Total params: 50,851\n",
            "Trainable params: 50,851\n",
            "Non-trainable params: 0\n",
            "_________________________________________________________________\n"
          ]
        }
      ],
      "source": [
        "model.summary()"
      ]
    },
    {
      "cell_type": "code",
      "execution_count": 265,
      "metadata": {
        "id": "MheUsrWtk5Zi"
      },
      "outputs": [],
      "source": [
        "train_predict=model.predict(X_train)\n",
        "test_predict=model.predict(X_test)\n",
        "train_predict=scaler.inverse_transform(train_predict)\n",
        "test_predict=scaler.inverse_transform(test_predict)"
      ]
    },
    {
      "cell_type": "code",
      "execution_count": 266,
      "metadata": {
        "colab": {
          "base_uri": "https://localhost:8080/"
        },
        "id": "8YE7JavblJlx",
        "outputId": "d576ae0d-b89d-41a2-f337-17d751634bea"
      },
      "outputs": [
        {
          "output_type": "execute_result",
          "data": {
            "text/plain": [
              "87.59199259639566"
            ]
          },
          "metadata": {},
          "execution_count": 266
        }
      ],
      "source": [
        "import math\n",
        "from sklearn.metrics import mean_squared_error\n",
        "math.sqrt(mean_squared_error(y_train,train_predict))"
      ]
    },
    {
      "cell_type": "code",
      "execution_count": 267,
      "metadata": {
        "colab": {
          "base_uri": "https://localhost:8080/"
        },
        "id": "rJCrCooClPDE",
        "outputId": "bc6324c8-86e9-4cd5-d614-4bd6e82cdcb6"
      },
      "outputs": [
        {
          "output_type": "execute_result",
          "data": {
            "text/plain": [
              "(1, 100)"
            ]
          },
          "metadata": {},
          "execution_count": 267
        }
      ],
      "source": [
        "x_input=test_data[409:].reshape(1,-1)\n",
        "x_input.shape"
      ]
    },
    {
      "cell_type": "code",
      "execution_count": 268,
      "metadata": {
        "colab": {
          "base_uri": "https://localhost:8080/"
        },
        "id": "CHSffN_1l0Ft",
        "outputId": "616e9980-cd38-41b5-c95f-521577248b5e"
      },
      "outputs": [
        {
          "output_type": "execute_result",
          "data": {
            "text/plain": [
              "82.56501231474034"
            ]
          },
          "metadata": {},
          "execution_count": 268
        }
      ],
      "source": [
        "#Test Data RMSE\n",
        "math.sqrt(mean_squared_error(ytest,test_predict))"
      ]
    },
    {
      "cell_type": "code",
      "execution_count": 269,
      "metadata": {
        "id": "1Bfh1vqZnURl"
      },
      "outputs": [],
      "source": [
        "#Plotting \n",
        "look_back=100\n",
        "trainPredictPlot = np.empty_like(stp1)\n",
        "trainPredictPlot[:, :] = np.nan\n",
        "trainPredictPlot[look_back:len(train_predict)+look_back, :] = train_predict\n"
      ]
    },
    {
      "cell_type": "code",
      "source": [
        "#shift test predictions for plotting\n",
        "testPredictPlot = np.empty_like(stp1)\n",
        "testPredictPlot[:, :] = np.nan\n",
        "testPredictPlot[len(train_predict)+(look_back*2)+1:len(stp1)-1, :] = test_predict"
      ],
      "metadata": {
        "id": "cBJhiEsQEuIp"
      },
      "execution_count": 270,
      "outputs": []
    },
    {
      "cell_type": "code",
      "source": [
        "plt.plot(scaler.inverse_transform(stp1))\n",
        "plt.plot(trainPredictPlot)\n",
        "plt.plot(testPredictPlot)\n",
        "plt.show()"
      ],
      "metadata": {
        "colab": {
          "base_uri": "https://localhost:8080/",
          "height": 265
        },
        "id": "wciXycStEwYJ",
        "outputId": "8ac5a253-50a9-4de9-9f64-247fc772e5d6"
      },
      "execution_count": 271,
      "outputs": [
        {
          "output_type": "display_data",
          "data": {
            "text/plain": [
              "<Figure size 432x288 with 1 Axes>"
            ],
            "image/png": "[encoded data removed]"
          },
          "metadata": {
            "needs_background": "light"
          }
        }
      ]
    },
    {
      "cell_type": "code",
      "source": [
        "temp_input=list(x_input)\n",
        "temp_input=temp_input[0].tolist()\n"
      ],
      "metadata": {
        "id": "p_UGc3VaG5hf"
      },
      "execution_count": 272,
      "outputs": []
    },
    {
      "cell_type": "code",
      "source": [
        "len(temp_input)"
      ],
      "metadata": {
        "colab": {
          "base_uri": "https://localhost:8080/"
        },
        "id": "qCkjdutEHBze",
        "outputId": "01862940-ff1b-4589-c0ea-cacb65b1986c"
      },
      "execution_count": 273,
      "outputs": [
        {
          "output_type": "execute_result",
          "data": {
            "text/plain": [
              "100"
            ]
          },
          "metadata": {},
          "execution_count": 273
        }
      ]
    },
    {
      "cell_type": "code",
      "source": [
        "lst_output=[]\n",
        "n_steps=100\n",
        "i=0\n",
        "while(i<30):\n",
        "     if(len(temp_input)>100):\n",
        "        x_input=np.array(temp_input[1:])\n",
        "        print(\"{} day input {}\".format(i,x_input))\n",
        "        x_input=x_input.reshape(1,-1)\n",
        "        x_input = x_input.reshape((1, n_steps, 1))\n",
        "        yhat = model.predict(x_input, verbose=0)\n",
        "        print(\"{} day output {}\".format(i,yhat))\n",
        "        temp_input.extend(yhat[0].tolist())\n",
        "        temp_input=temp_input[1:]\n",
        "        lst_output.extend(yhat.tolist())\n",
        "        i=i+1\n",
        "     else:\n",
        "        x_input = x_input.reshape((1, n_steps,1))\n",
        "        yhat = model.predict(x_input, verbose=0)\n",
        "        print(yhat[0])\n",
        "        temp_input.extend(yhat[0].tolist())\n",
        "        print(len(temp_input))\n",
        "        lst_output.extend(yhat.tolist())\n",
        "        i=i+1\n",
        "\n",
        "\n",
        "print(lst_output)"
      ],
      "metadata": {
        "colab": {
          "base_uri": "https://localhost:8080/"
        },
        "id": "wa9uaHOeGP6d",
        "outputId": "9328f69a-3a84-4eb2-fa3d-d1c78eae4ac2"
      },
      "execution_count": 276,
      "outputs": [
        {
          "output_type": "stream",
          "name": "stdout",
          "text": [
            "0 day input [0.18913399 0.18954248 0.19403595 0.19444444 0.20200163 0.19771242\n",
            " 0.19934641 0.19873366 0.1997549  0.2128268  0.21568627 0.20445261\n",
            " 0.21772876 0.21098856 0.21425654 0.19750817 0.18811275 0.17851307\n",
            " 0.17381536 0.16033497 0.16564542 0.17116013 0.17422386 0.18035131\n",
            " 0.17401961 0.16278595 0.16973039 0.17810458 0.17034314 0.16830065\n",
            " 0.17279412 0.17544935 0.18382353 0.19138072 0.18913399 0.19097222\n",
            " 0.17238562 0.16830065 0.1693219  0.17177288 0.16156046 0.14971405\n",
            " 0.1503268  0.15196078 0.14726307 0.14501634 0.14603758 0.12479575\n",
            " 0.13112745 0.11397059 0.1190768  0.12377451 0.13562092 0.12908497\n",
            " 0.13459967 0.12806373 0.13031046 0.12724673 0.13521242 0.14522059\n",
            " 0.15257353 0.14848856 0.14338235 0.14562908 0.15236928 0.15400327\n",
            " 0.14971405 0.1621732  0.16319444 0.16584967 0.00720061 0.00724008\n",
            " 0.00732309 0.00743334 0.00754409 0.00762645 0.00765543 0.00761345\n",
            " 0.0074915  0.00728878 0.00701117 0.00666939 0.00627706 0.00584895\n",
            " 0.00539964 0.00494255 0.00448927 0.00404931 0.00362996 0.00323644\n",
            " 0.00287211 0.00253872 0.0022367  0.00196549 0.00172376 0.00150968\n",
            " 0.0013211  0.00115571 0.00101117 0.00088518]\n",
            "0 day output [[0.00077557]]\n",
            "1 day input [0.18954248 0.19403595 0.19444444 0.20200163 0.19771242 0.19934641\n",
            " 0.19873366 0.1997549  0.2128268  0.21568627 0.20445261 0.21772876\n",
            " 0.21098856 0.21425654 0.19750817 0.18811275 0.17851307 0.17381536\n",
            " 0.16033497 0.16564542 0.17116013 0.17422386 0.18035131 0.17401961\n",
            " 0.16278595 0.16973039 0.17810458 0.17034314 0.16830065 0.17279412\n",
            " 0.17544935 0.18382353 0.19138072 0.18913399 0.19097222 0.17238562\n",
            " 0.16830065 0.1693219  0.17177288 0.16156046 0.14971405 0.1503268\n",
            " 0.15196078 0.14726307 0.14501634 0.14603758 0.12479575 0.13112745\n",
            " 0.11397059 0.1190768  0.12377451 0.13562092 0.12908497 0.13459967\n",
            " 0.12806373 0.13031046 0.12724673 0.13521242 0.14522059 0.15257353\n",
            " 0.14848856 0.14338235 0.14562908 0.15236928 0.15400327 0.14971405\n",
            " 0.1621732  0.16319444 0.16584967 0.00720061 0.00724008 0.00732309\n",
            " 0.00743334 0.00754409 0.00762645 0.00765543 0.00761345 0.0074915\n",
            " 0.00728878 0.00701117 0.00666939 0.00627706 0.00584895 0.00539964\n",
            " 0.00494255 0.00448927 0.00404931 0.00362996 0.00323644 0.00287211\n",
            " 0.00253872 0.0022367  0.00196549 0.00172376 0.00150968 0.0013211\n",
            " 0.00115571 0.00101117 0.00088518 0.00077557]\n",
            "1 day output [[0.00068032]]\n",
            "2 day input [0.19403595 0.19444444 0.20200163 0.19771242 0.19934641 0.19873366\n",
            " 0.1997549  0.2128268  0.21568627 0.20445261 0.21772876 0.21098856\n",
            " 0.21425654 0.19750817 0.18811275 0.17851307 0.17381536 0.16033497\n",
            " 0.16564542 0.17116013 0.17422386 0.18035131 0.17401961 0.16278595\n",
            " 0.16973039 0.17810458 0.17034314 0.16830065 0.17279412 0.17544935\n",
            " 0.18382353 0.19138072 0.18913399 0.19097222 0.17238562 0.16830065\n",
            " 0.1693219  0.17177288 0.16156046 0.14971405 0.1503268  0.15196078\n",
            " 0.14726307 0.14501634 0.14603758 0.12479575 0.13112745 0.11397059\n",
            " 0.1190768  0.12377451 0.13562092 0.12908497 0.13459967 0.12806373\n",
            " 0.13031046 0.12724673 0.13521242 0.14522059 0.15257353 0.14848856\n",
            " 0.14338235 0.14562908 0.15236928 0.15400327 0.14971405 0.1621732\n",
            " 0.16319444 0.16584967 0.00720061 0.00724008 0.00732309 0.00743334\n",
            " 0.00754409 0.00762645 0.00765543 0.00761345 0.0074915  0.00728878\n",
            " 0.00701117 0.00666939 0.00627706 0.00584895 0.00539964 0.00494255\n",
            " 0.00448927 0.00404931 0.00362996 0.00323644 0.00287211 0.00253872\n",
            " 0.0022367  0.00196549 0.00172376 0.00150968 0.0013211  0.00115571\n",
            " 0.00101117 0.00088518 0.00077557 0.00068032]\n",
            "2 day output [[0.00059758]]\n",
            "3 day input [0.19444444 0.20200163 0.19771242 0.19934641 0.19873366 0.1997549\n",
            " 0.2128268  0.21568627 0.20445261 0.21772876 0.21098856 0.21425654\n",
            " 0.19750817 0.18811275 0.17851307 0.17381536 0.16033497 0.16564542\n",
            " 0.17116013 0.17422386 0.18035131 0.17401961 0.16278595 0.16973039\n",
            " 0.17810458 0.17034314 0.16830065 0.17279412 0.17544935 0.18382353\n",
            " 0.19138072 0.18913399 0.19097222 0.17238562 0.16830065 0.1693219\n",
            " 0.17177288 0.16156046 0.14971405 0.1503268  0.15196078 0.14726307\n",
            " 0.14501634 0.14603758 0.12479575 0.13112745 0.11397059 0.1190768\n",
            " 0.12377451 0.13562092 0.12908497 0.13459967 0.12806373 0.13031046\n",
            " 0.12724673 0.13521242 0.14522059 0.15257353 0.14848856 0.14338235\n",
            " 0.14562908 0.15236928 0.15400327 0.14971405 0.1621732  0.16319444\n",
            " 0.16584967 0.00720061 0.00724008 0.00732309 0.00743334 0.00754409\n",
            " 0.00762645 0.00765543 0.00761345 0.0074915  0.00728878 0.00701117\n",
            " 0.00666939 0.00627706 0.00584895 0.00539964 0.00494255 0.00448927\n",
            " 0.00404931 0.00362996 0.00323644 0.00287211 0.00253872 0.0022367\n",
            " 0.00196549 0.00172376 0.00150968 0.0013211  0.00115571 0.00101117\n",
            " 0.00088518 0.00077557 0.00068032 0.00059758]\n",
            "3 day output [[0.00052571]]\n",
            "4 day input [0.20200163 0.19771242 0.19934641 0.19873366 0.1997549  0.2128268\n",
            " 0.21568627 0.20445261 0.21772876 0.21098856 0.21425654 0.19750817\n",
            " 0.18811275 0.17851307 0.17381536 0.16033497 0.16564542 0.17116013\n",
            " 0.17422386 0.18035131 0.17401961 0.16278595 0.16973039 0.17810458\n",
            " 0.17034314 0.16830065 0.17279412 0.17544935 0.18382353 0.19138072\n",
            " 0.18913399 0.19097222 0.17238562 0.16830065 0.1693219  0.17177288\n",
            " 0.16156046 0.14971405 0.1503268  0.15196078 0.14726307 0.14501634\n",
            " 0.14603758 0.12479575 0.13112745 0.11397059 0.1190768  0.12377451\n",
            " 0.13562092 0.12908497 0.13459967 0.12806373 0.13031046 0.12724673\n",
            " 0.13521242 0.14522059 0.15257353 0.14848856 0.14338235 0.14562908\n",
            " 0.15236928 0.15400327 0.14971405 0.1621732  0.16319444 0.16584967\n",
            " 0.00720061 0.00724008 0.00732309 0.00743334 0.00754409 0.00762645\n",
            " 0.00765543 0.00761345 0.0074915  0.00728878 0.00701117 0.00666939\n",
            " 0.00627706 0.00584895 0.00539964 0.00494255 0.00448927 0.00404931\n",
            " 0.00362996 0.00323644 0.00287211 0.00253872 0.0022367  0.00196549\n",
            " 0.00172376 0.00150968 0.0013211  0.00115571 0.00101117 0.00088518\n",
            " 0.00077557 0.00068032 0.00059758 0.00052571]\n",
            "4 day output [[0.00046323]]\n",
            "5 day input [0.19771242 0.19934641 0.19873366 0.1997549  0.2128268  0.21568627\n",
            " 0.20445261 0.21772876 0.21098856 0.21425654 0.19750817 0.18811275\n",
            " 0.17851307 0.17381536 0.16033497 0.16564542 0.17116013 0.17422386\n",
            " 0.18035131 0.17401961 0.16278595 0.16973039 0.17810458 0.17034314\n",
            " 0.16830065 0.17279412 0.17544935 0.18382353 0.19138072 0.18913399\n",
            " 0.19097222 0.17238562 0.16830065 0.1693219  0.17177288 0.16156046\n",
            " 0.14971405 0.1503268  0.15196078 0.14726307 0.14501634 0.14603758\n",
            " 0.12479575 0.13112745 0.11397059 0.1190768  0.12377451 0.13562092\n",
            " 0.12908497 0.13459967 0.12806373 0.13031046 0.12724673 0.13521242\n",
            " 0.14522059 0.15257353 0.14848856 0.14338235 0.14562908 0.15236928\n",
            " 0.15400327 0.14971405 0.1621732  0.16319444 0.16584967 0.00720061\n",
            " 0.00724008 0.00732309 0.00743334 0.00754409 0.00762645 0.00765543\n",
            " 0.00761345 0.0074915  0.00728878 0.00701117 0.00666939 0.00627706\n",
            " 0.00584895 0.00539964 0.00494255 0.00448927 0.00404931 0.00362996\n",
            " 0.00323644 0.00287211 0.00253872 0.0022367  0.00196549 0.00172376\n",
            " 0.00150968 0.0013211  0.00115571 0.00101117 0.00088518 0.00077557\n",
            " 0.00068032 0.00059758 0.00052571 0.00046323]\n",
            "5 day output [[0.00040885]]\n",
            "6 day input [0.19934641 0.19873366 0.1997549  0.2128268  0.21568627 0.20445261\n",
            " 0.21772876 0.21098856 0.21425654 0.19750817 0.18811275 0.17851307\n",
            " 0.17381536 0.16033497 0.16564542 0.17116013 0.17422386 0.18035131\n",
            " 0.17401961 0.16278595 0.16973039 0.17810458 0.17034314 0.16830065\n",
            " 0.17279412 0.17544935 0.18382353 0.19138072 0.18913399 0.19097222\n",
            " 0.17238562 0.16830065 0.1693219  0.17177288 0.16156046 0.14971405\n",
            " 0.1503268  0.15196078 0.14726307 0.14501634 0.14603758 0.12479575\n",
            " 0.13112745 0.11397059 0.1190768  0.12377451 0.13562092 0.12908497\n",
            " 0.13459967 0.12806373 0.13031046 0.12724673 0.13521242 0.14522059\n",
            " 0.15257353 0.14848856 0.14338235 0.14562908 0.15236928 0.15400327\n",
            " 0.14971405 0.1621732  0.16319444 0.16584967 0.00720061 0.00724008\n",
            " 0.00732309 0.00743334 0.00754409 0.00762645 0.00765543 0.00761345\n",
            " 0.0074915  0.00728878 0.00701117 0.00666939 0.00627706 0.00584895\n",
            " 0.00539964 0.00494255 0.00448927 0.00404931 0.00362996 0.00323644\n",
            " 0.00287211 0.00253872 0.0022367  0.00196549 0.00172376 0.00150968\n",
            " 0.0013211  0.00115571 0.00101117 0.00088518 0.00077557 0.00068032\n",
            " 0.00059758 0.00052571 0.00046323 0.00040885]\n",
            "6 day output [[0.00036146]]\n",
            "7 day input [0.19873366 0.1997549  0.2128268  0.21568627 0.20445261 0.21772876\n",
            " 0.21098856 0.21425654 0.19750817 0.18811275 0.17851307 0.17381536\n",
            " 0.16033497 0.16564542 0.17116013 0.17422386 0.18035131 0.17401961\n",
            " 0.16278595 0.16973039 0.17810458 0.17034314 0.16830065 0.17279412\n",
            " 0.17544935 0.18382353 0.19138072 0.18913399 0.19097222 0.17238562\n",
            " 0.16830065 0.1693219  0.17177288 0.16156046 0.14971405 0.1503268\n",
            " 0.15196078 0.14726307 0.14501634 0.14603758 0.12479575 0.13112745\n",
            " 0.11397059 0.1190768  0.12377451 0.13562092 0.12908497 0.13459967\n",
            " 0.12806373 0.13031046 0.12724673 0.13521242 0.14522059 0.15257353\n",
            " 0.14848856 0.14338235 0.14562908 0.15236928 0.15400327 0.14971405\n",
            " 0.1621732  0.16319444 0.16584967 0.00720061 0.00724008 0.00732309\n",
            " 0.00743334 0.00754409 0.00762645 0.00765543 0.00761345 0.0074915\n",
            " 0.00728878 0.00701117 0.00666939 0.00627706 0.00584895 0.00539964\n",
            " 0.00494255 0.00448927 0.00404931 0.00362996 0.00323644 0.00287211\n",
            " 0.00253872 0.0022367  0.00196549 0.00172376 0.00150968 0.0013211\n",
            " 0.00115571 0.00101117 0.00088518 0.00077557 0.00068032 0.00059758\n",
            " 0.00052571 0.00046323 0.00040885 0.00036146]\n",
            "7 day output [[0.00032009]]\n",
            "8 day input [0.1997549  0.2128268  0.21568627 0.20445261 0.21772876 0.21098856\n",
            " 0.21425654 0.19750817 0.18811275 0.17851307 0.17381536 0.16033497\n",
            " 0.16564542 0.17116013 0.17422386 0.18035131 0.17401961 0.16278595\n",
            " 0.16973039 0.17810458 0.17034314 0.16830065 0.17279412 0.17544935\n",
            " 0.18382353 0.19138072 0.18913399 0.19097222 0.17238562 0.16830065\n",
            " 0.1693219  0.17177288 0.16156046 0.14971405 0.1503268  0.15196078\n",
            " 0.14726307 0.14501634 0.14603758 0.12479575 0.13112745 0.11397059\n",
            " 0.1190768  0.12377451 0.13562092 0.12908497 0.13459967 0.12806373\n",
            " 0.13031046 0.12724673 0.13521242 0.14522059 0.15257353 0.14848856\n",
            " 0.14338235 0.14562908 0.15236928 0.15400327 0.14971405 0.1621732\n",
            " 0.16319444 0.16584967 0.00720061 0.00724008 0.00732309 0.00743334\n",
            " 0.00754409 0.00762645 0.00765543 0.00761345 0.0074915  0.00728878\n",
            " 0.00701117 0.00666939 0.00627706 0.00584895 0.00539964 0.00494255\n",
            " 0.00448927 0.00404931 0.00362996 0.00323644 0.00287211 0.00253872\n",
            " 0.0022367  0.00196549 0.00172376 0.00150968 0.0013211  0.00115571\n",
            " 0.00101117 0.00088518 0.00077557 0.00068032 0.00059758 0.00052571\n",
            " 0.00046323 0.00040885 0.00036146 0.00032009]\n",
            "8 day output [[0.00028389]]\n",
            "9 day input [0.2128268  0.21568627 0.20445261 0.21772876 0.21098856 0.21425654\n",
            " 0.19750817 0.18811275 0.17851307 0.17381536 0.16033497 0.16564542\n",
            " 0.17116013 0.17422386 0.18035131 0.17401961 0.16278595 0.16973039\n",
            " 0.17810458 0.17034314 0.16830065 0.17279412 0.17544935 0.18382353\n",
            " 0.19138072 0.18913399 0.19097222 0.17238562 0.16830065 0.1693219\n",
            " 0.17177288 0.16156046 0.14971405 0.1503268  0.15196078 0.14726307\n",
            " 0.14501634 0.14603758 0.12479575 0.13112745 0.11397059 0.1190768\n",
            " 0.12377451 0.13562092 0.12908497 0.13459967 0.12806373 0.13031046\n",
            " 0.12724673 0.13521242 0.14522059 0.15257353 0.14848856 0.14338235\n",
            " 0.14562908 0.15236928 0.15400327 0.14971405 0.1621732  0.16319444\n",
            " 0.16584967 0.00720061 0.00724008 0.00732309 0.00743334 0.00754409\n",
            " 0.00762645 0.00765543 0.00761345 0.0074915  0.00728878 0.00701117\n",
            " 0.00666939 0.00627706 0.00584895 0.00539964 0.00494255 0.00448927\n",
            " 0.00404931 0.00362996 0.00323644 0.00287211 0.00253872 0.0022367\n",
            " 0.00196549 0.00172376 0.00150968 0.0013211  0.00115571 0.00101117\n",
            " 0.00088518 0.00077557 0.00068032 0.00059758 0.00052571 0.00046323\n",
            " 0.00040885 0.00036146 0.00032009 0.00028389]\n",
            "9 day output [[0.00025215]]\n",
            "10 day input [0.21568627 0.20445261 0.21772876 0.21098856 0.21425654 0.19750817\n",
            " 0.18811275 0.17851307 0.17381536 0.16033497 0.16564542 0.17116013\n",
            " 0.17422386 0.18035131 0.17401961 0.16278595 0.16973039 0.17810458\n",
            " 0.17034314 0.16830065 0.17279412 0.17544935 0.18382353 0.19138072\n",
            " 0.18913399 0.19097222 0.17238562 0.16830065 0.1693219  0.17177288\n",
            " 0.16156046 0.14971405 0.1503268  0.15196078 0.14726307 0.14501634\n",
            " 0.14603758 0.12479575 0.13112745 0.11397059 0.1190768  0.12377451\n",
            " 0.13562092 0.12908497 0.13459967 0.12806373 0.13031046 0.12724673\n",
            " 0.13521242 0.14522059 0.15257353 0.14848856 0.14338235 0.14562908\n",
            " 0.15236928 0.15400327 0.14971405 0.1621732  0.16319444 0.16584967\n",
            " 0.00720061 0.00724008 0.00732309 0.00743334 0.00754409 0.00762645\n",
            " 0.00765543 0.00761345 0.0074915  0.00728878 0.00701117 0.00666939\n",
            " 0.00627706 0.00584895 0.00539964 0.00494255 0.00448927 0.00404931\n",
            " 0.00362996 0.00323644 0.00287211 0.00253872 0.0022367  0.00196549\n",
            " 0.00172376 0.00150968 0.0013211  0.00115571 0.00101117 0.00088518\n",
            " 0.00077557 0.00068032 0.00059758 0.00052571 0.00046323 0.00040885\n",
            " 0.00036146 0.00032009 0.00028389 0.00025215]\n",
            "10 day output [[0.00022427]]\n",
            "11 day input [0.20445261 0.21772876 0.21098856 0.21425654 0.19750817 0.18811275\n",
            " 0.17851307 0.17381536 0.16033497 0.16564542 0.17116013 0.17422386\n",
            " 0.18035131 0.17401961 0.16278595 0.16973039 0.17810458 0.17034314\n",
            " 0.16830065 0.17279412 0.17544935 0.18382353 0.19138072 0.18913399\n",
            " 0.19097222 0.17238562 0.16830065 0.1693219  0.17177288 0.16156046\n",
            " 0.14971405 0.1503268  0.15196078 0.14726307 0.14501634 0.14603758\n",
            " 0.12479575 0.13112745 0.11397059 0.1190768  0.12377451 0.13562092\n",
            " 0.12908497 0.13459967 0.12806373 0.13031046 0.12724673 0.13521242\n",
            " 0.14522059 0.15257353 0.14848856 0.14338235 0.14562908 0.15236928\n",
            " 0.15400327 0.14971405 0.1621732  0.16319444 0.16584967 0.00720061\n",
            " 0.00724008 0.00732309 0.00743334 0.00754409 0.00762645 0.00765543\n",
            " 0.00761345 0.0074915  0.00728878 0.00701117 0.00666939 0.00627706\n",
            " 0.00584895 0.00539964 0.00494255 0.00448927 0.00404931 0.00362996\n",
            " 0.00323644 0.00287211 0.00253872 0.0022367  0.00196549 0.00172376\n",
            " 0.00150968 0.0013211  0.00115571 0.00101117 0.00088518 0.00077557\n",
            " 0.00068032 0.00059758 0.00052571 0.00046323 0.00040885 0.00036146\n",
            " 0.00032009 0.00028389 0.00025215 0.00022427]\n",
            "11 day output [[0.00019972]]\n",
            "12 day input [2.17728758e-01 2.10988562e-01 2.14256536e-01 1.97508170e-01\n",
            " 1.88112745e-01 1.78513072e-01 1.73815359e-01 1.60334967e-01\n",
            " 1.65645425e-01 1.71160131e-01 1.74223856e-01 1.80351307e-01\n",
            " 1.74019608e-01 1.62785948e-01 1.69730392e-01 1.78104575e-01\n",
            " 1.70343137e-01 1.68300654e-01 1.72794118e-01 1.75449346e-01\n",
            " 1.83823529e-01 1.91380719e-01 1.89133987e-01 1.90972222e-01\n",
            " 1.72385621e-01 1.68300654e-01 1.69321895e-01 1.71772876e-01\n",
            " 1.61560458e-01 1.49714052e-01 1.50326797e-01 1.51960784e-01\n",
            " 1.47263072e-01 1.45016340e-01 1.46037582e-01 1.24795752e-01\n",
            " 1.31127451e-01 1.13970588e-01 1.19076797e-01 1.23774510e-01\n",
            " 1.35620915e-01 1.29084967e-01 1.34599673e-01 1.28063725e-01\n",
            " 1.30310458e-01 1.27246732e-01 1.35212418e-01 1.45220588e-01\n",
            " 1.52573529e-01 1.48488562e-01 1.43382353e-01 1.45629085e-01\n",
            " 1.52369281e-01 1.54003268e-01 1.49714052e-01 1.62173203e-01\n",
            " 1.63194444e-01 1.65849673e-01 7.20061036e-03 7.24008307e-03\n",
            " 7.32309138e-03 7.43333809e-03 7.54408725e-03 7.62645062e-03\n",
            " 7.65543338e-03 7.61344563e-03 7.49150105e-03 7.28877774e-03\n",
            " 7.01116724e-03 6.66939188e-03 6.27706153e-03 5.84894931e-03\n",
            " 5.39964298e-03 4.94254939e-03 4.48927330e-03 4.04930767e-03\n",
            " 3.62995639e-03 3.23644187e-03 2.87211384e-03 2.53871735e-03\n",
            " 2.23669969e-03 1.96548551e-03 1.72375503e-03 1.50967517e-03\n",
            " 1.32109632e-03 1.15570915e-03 1.01116870e-03 8.85182177e-04\n",
            " 7.75571330e-04 6.80318975e-04 5.97581733e-04 5.25706506e-04\n",
            " 4.63225995e-04 4.08851600e-04 3.61461600e-04 3.20085208e-04\n",
            " 2.83888076e-04 2.52154656e-04 2.24273259e-04 1.99723712e-04]\n",
            "12 day output [[0.00017806]]\n",
            "13 day input [2.10988562e-01 2.14256536e-01 1.97508170e-01 1.88112745e-01\n",
            " 1.78513072e-01 1.73815359e-01 1.60334967e-01 1.65645425e-01\n",
            " 1.71160131e-01 1.74223856e-01 1.80351307e-01 1.74019608e-01\n",
            " 1.62785948e-01 1.69730392e-01 1.78104575e-01 1.70343137e-01\n",
            " 1.68300654e-01 1.72794118e-01 1.75449346e-01 1.83823529e-01\n",
            " 1.91380719e-01 1.89133987e-01 1.90972222e-01 1.72385621e-01\n",
            " 1.68300654e-01 1.69321895e-01 1.71772876e-01 1.61560458e-01\n",
            " 1.49714052e-01 1.50326797e-01 1.51960784e-01 1.47263072e-01\n",
            " 1.45016340e-01 1.46037582e-01 1.24795752e-01 1.31127451e-01\n",
            " 1.13970588e-01 1.19076797e-01 1.23774510e-01 1.35620915e-01\n",
            " 1.29084967e-01 1.34599673e-01 1.28063725e-01 1.30310458e-01\n",
            " 1.27246732e-01 1.35212418e-01 1.45220588e-01 1.52573529e-01\n",
            " 1.48488562e-01 1.43382353e-01 1.45629085e-01 1.52369281e-01\n",
            " 1.54003268e-01 1.49714052e-01 1.62173203e-01 1.63194444e-01\n",
            " 1.65849673e-01 7.20061036e-03 7.24008307e-03 7.32309138e-03\n",
            " 7.43333809e-03 7.54408725e-03 7.62645062e-03 7.65543338e-03\n",
            " 7.61344563e-03 7.49150105e-03 7.28877774e-03 7.01116724e-03\n",
            " 6.66939188e-03 6.27706153e-03 5.84894931e-03 5.39964298e-03\n",
            " 4.94254939e-03 4.48927330e-03 4.04930767e-03 3.62995639e-03\n",
            " 3.23644187e-03 2.87211384e-03 2.53871735e-03 2.23669969e-03\n",
            " 1.96548551e-03 1.72375503e-03 1.50967517e-03 1.32109632e-03\n",
            " 1.15570915e-03 1.01116870e-03 8.85182177e-04 7.75571330e-04\n",
            " 6.80318975e-04 5.97581733e-04 5.25706506e-04 4.63225995e-04\n",
            " 4.08851600e-04 3.61461600e-04 3.20085208e-04 2.83888076e-04\n",
            " 2.52154656e-04 2.24273259e-04 1.99723712e-04 1.78063041e-04]\n",
            "13 day output [[0.00015891]]\n",
            "14 day input [2.14256536e-01 1.97508170e-01 1.88112745e-01 1.78513072e-01\n",
            " 1.73815359e-01 1.60334967e-01 1.65645425e-01 1.71160131e-01\n",
            " 1.74223856e-01 1.80351307e-01 1.74019608e-01 1.62785948e-01\n",
            " 1.69730392e-01 1.78104575e-01 1.70343137e-01 1.68300654e-01\n",
            " 1.72794118e-01 1.75449346e-01 1.83823529e-01 1.91380719e-01\n",
            " 1.89133987e-01 1.90972222e-01 1.72385621e-01 1.68300654e-01\n",
            " 1.69321895e-01 1.71772876e-01 1.61560458e-01 1.49714052e-01\n",
            " 1.50326797e-01 1.51960784e-01 1.47263072e-01 1.45016340e-01\n",
            " 1.46037582e-01 1.24795752e-01 1.31127451e-01 1.13970588e-01\n",
            " 1.19076797e-01 1.23774510e-01 1.35620915e-01 1.29084967e-01\n",
            " 1.34599673e-01 1.28063725e-01 1.30310458e-01 1.27246732e-01\n",
            " 1.35212418e-01 1.45220588e-01 1.52573529e-01 1.48488562e-01\n",
            " 1.43382353e-01 1.45629085e-01 1.52369281e-01 1.54003268e-01\n",
            " 1.49714052e-01 1.62173203e-01 1.63194444e-01 1.65849673e-01\n",
            " 7.20061036e-03 7.24008307e-03 7.32309138e-03 7.43333809e-03\n",
            " 7.54408725e-03 7.62645062e-03 7.65543338e-03 7.61344563e-03\n",
            " 7.49150105e-03 7.28877774e-03 7.01116724e-03 6.66939188e-03\n",
            " 6.27706153e-03 5.84894931e-03 5.39964298e-03 4.94254939e-03\n",
            " 4.48927330e-03 4.04930767e-03 3.62995639e-03 3.23644187e-03\n",
            " 2.87211384e-03 2.53871735e-03 2.23669969e-03 1.96548551e-03\n",
            " 1.72375503e-03 1.50967517e-03 1.32109632e-03 1.15570915e-03\n",
            " 1.01116870e-03 8.85182177e-04 7.75571330e-04 6.80318975e-04\n",
            " 5.97581733e-04 5.25706506e-04 4.63225995e-04 4.08851600e-04\n",
            " 3.61461600e-04 3.20085208e-04 2.83888076e-04 2.52154656e-04\n",
            " 2.24273259e-04 1.99723712e-04 1.78063041e-04 1.58911469e-04]\n",
            "14 day output [[0.00014195]]\n",
            "15 day input [1.97508170e-01 1.88112745e-01 1.78513072e-01 1.73815359e-01\n",
            " 1.60334967e-01 1.65645425e-01 1.71160131e-01 1.74223856e-01\n",
            " 1.80351307e-01 1.74019608e-01 1.62785948e-01 1.69730392e-01\n",
            " 1.78104575e-01 1.70343137e-01 1.68300654e-01 1.72794118e-01\n",
            " 1.75449346e-01 1.83823529e-01 1.91380719e-01 1.89133987e-01\n",
            " 1.90972222e-01 1.72385621e-01 1.68300654e-01 1.69321895e-01\n",
            " 1.71772876e-01 1.61560458e-01 1.49714052e-01 1.50326797e-01\n",
            " 1.51960784e-01 1.47263072e-01 1.45016340e-01 1.46037582e-01\n",
            " 1.24795752e-01 1.31127451e-01 1.13970588e-01 1.19076797e-01\n",
            " 1.23774510e-01 1.35620915e-01 1.29084967e-01 1.34599673e-01\n",
            " 1.28063725e-01 1.30310458e-01 1.27246732e-01 1.35212418e-01\n",
            " 1.45220588e-01 1.52573529e-01 1.48488562e-01 1.43382353e-01\n",
            " 1.45629085e-01 1.52369281e-01 1.54003268e-01 1.49714052e-01\n",
            " 1.62173203e-01 1.63194444e-01 1.65849673e-01 7.20061036e-03\n",
            " 7.24008307e-03 7.32309138e-03 7.43333809e-03 7.54408725e-03\n",
            " 7.62645062e-03 7.65543338e-03 7.61344563e-03 7.49150105e-03\n",
            " 7.28877774e-03 7.01116724e-03 6.66939188e-03 6.27706153e-03\n",
            " 5.84894931e-03 5.39964298e-03 4.94254939e-03 4.48927330e-03\n",
            " 4.04930767e-03 3.62995639e-03 3.23644187e-03 2.87211384e-03\n",
            " 2.53871735e-03 2.23669969e-03 1.96548551e-03 1.72375503e-03\n",
            " 1.50967517e-03 1.32109632e-03 1.15570915e-03 1.01116870e-03\n",
            " 8.85182177e-04 7.75571330e-04 6.80318975e-04 5.97581733e-04\n",
            " 5.25706506e-04 4.63225995e-04 4.08851600e-04 3.61461600e-04\n",
            " 3.20085208e-04 2.83888076e-04 2.52154656e-04 2.24273259e-04\n",
            " 1.99723712e-04 1.78063041e-04 1.58911469e-04 1.41947457e-04]\n",
            "15 day output [[0.00012689]]\n",
            "16 day input [1.88112745e-01 1.78513072e-01 1.73815359e-01 1.60334967e-01\n",
            " 1.65645425e-01 1.71160131e-01 1.74223856e-01 1.80351307e-01\n",
            " 1.74019608e-01 1.62785948e-01 1.69730392e-01 1.78104575e-01\n",
            " 1.70343137e-01 1.68300654e-01 1.72794118e-01 1.75449346e-01\n",
            " 1.83823529e-01 1.91380719e-01 1.89133987e-01 1.90972222e-01\n",
            " 1.72385621e-01 1.68300654e-01 1.69321895e-01 1.71772876e-01\n",
            " 1.61560458e-01 1.49714052e-01 1.50326797e-01 1.51960784e-01\n",
            " 1.47263072e-01 1.45016340e-01 1.46037582e-01 1.24795752e-01\n",
            " 1.31127451e-01 1.13970588e-01 1.19076797e-01 1.23774510e-01\n",
            " 1.35620915e-01 1.29084967e-01 1.34599673e-01 1.28063725e-01\n",
            " 1.30310458e-01 1.27246732e-01 1.35212418e-01 1.45220588e-01\n",
            " 1.52573529e-01 1.48488562e-01 1.43382353e-01 1.45629085e-01\n",
            " 1.52369281e-01 1.54003268e-01 1.49714052e-01 1.62173203e-01\n",
            " 1.63194444e-01 1.65849673e-01 7.20061036e-03 7.24008307e-03\n",
            " 7.32309138e-03 7.43333809e-03 7.54408725e-03 7.62645062e-03\n",
            " 7.65543338e-03 7.61344563e-03 7.49150105e-03 7.28877774e-03\n",
            " 7.01116724e-03 6.66939188e-03 6.27706153e-03 5.84894931e-03\n",
            " 5.39964298e-03 4.94254939e-03 4.48927330e-03 4.04930767e-03\n",
            " 3.62995639e-03 3.23644187e-03 2.87211384e-03 2.53871735e-03\n",
            " 2.23669969e-03 1.96548551e-03 1.72375503e-03 1.50967517e-03\n",
            " 1.32109632e-03 1.15570915e-03 1.01116870e-03 8.85182177e-04\n",
            " 7.75571330e-04 6.80318975e-04 5.97581733e-04 5.25706506e-04\n",
            " 4.63225995e-04 4.08851600e-04 3.61461600e-04 3.20085208e-04\n",
            " 2.83888076e-04 2.52154656e-04 2.24273259e-04 1.99723712e-04\n",
            " 1.78063041e-04 1.58911469e-04 1.41947457e-04 1.26894738e-04]\n",
            "16 day output [[0.00011352]]\n",
            "17 day input [1.78513072e-01 1.73815359e-01 1.60334967e-01 1.65645425e-01\n",
            " 1.71160131e-01 1.74223856e-01 1.80351307e-01 1.74019608e-01\n",
            " 1.62785948e-01 1.69730392e-01 1.78104575e-01 1.70343137e-01\n",
            " 1.68300654e-01 1.72794118e-01 1.75449346e-01 1.83823529e-01\n",
            " 1.91380719e-01 1.89133987e-01 1.90972222e-01 1.72385621e-01\n",
            " 1.68300654e-01 1.69321895e-01 1.71772876e-01 1.61560458e-01\n",
            " 1.49714052e-01 1.50326797e-01 1.51960784e-01 1.47263072e-01\n",
            " 1.45016340e-01 1.46037582e-01 1.24795752e-01 1.31127451e-01\n",
            " 1.13970588e-01 1.19076797e-01 1.23774510e-01 1.35620915e-01\n",
            " 1.29084967e-01 1.34599673e-01 1.28063725e-01 1.30310458e-01\n",
            " 1.27246732e-01 1.35212418e-01 1.45220588e-01 1.52573529e-01\n",
            " 1.48488562e-01 1.43382353e-01 1.45629085e-01 1.52369281e-01\n",
            " 1.54003268e-01 1.49714052e-01 1.62173203e-01 1.63194444e-01\n",
            " 1.65849673e-01 7.20061036e-03 7.24008307e-03 7.32309138e-03\n",
            " 7.43333809e-03 7.54408725e-03 7.62645062e-03 7.65543338e-03\n",
            " 7.61344563e-03 7.49150105e-03 7.28877774e-03 7.01116724e-03\n",
            " 6.66939188e-03 6.27706153e-03 5.84894931e-03 5.39964298e-03\n",
            " 4.94254939e-03 4.48927330e-03 4.04930767e-03 3.62995639e-03\n",
            " 3.23644187e-03 2.87211384e-03 2.53871735e-03 2.23669969e-03\n",
            " 1.96548551e-03 1.72375503e-03 1.50967517e-03 1.32109632e-03\n",
            " 1.15570915e-03 1.01116870e-03 8.85182177e-04 7.75571330e-04\n",
            " 6.80318975e-04 5.97581733e-04 5.25706506e-04 4.63225995e-04\n",
            " 4.08851600e-04 3.61461600e-04 3.20085208e-04 2.83888076e-04\n",
            " 2.52154656e-04 2.24273259e-04 1.99723712e-04 1.78063041e-04\n",
            " 1.58911469e-04 1.41947457e-04 1.26894738e-04 1.13517977e-04]\n",
            "17 day output [[0.00010161]]\n",
            "18 day input [1.73815359e-01 1.60334967e-01 1.65645425e-01 1.71160131e-01\n",
            " 1.74223856e-01 1.80351307e-01 1.74019608e-01 1.62785948e-01\n",
            " 1.69730392e-01 1.78104575e-01 1.70343137e-01 1.68300654e-01\n",
            " 1.72794118e-01 1.75449346e-01 1.83823529e-01 1.91380719e-01\n",
            " 1.89133987e-01 1.90972222e-01 1.72385621e-01 1.68300654e-01\n",
            " 1.69321895e-01 1.71772876e-01 1.61560458e-01 1.49714052e-01\n",
            " 1.50326797e-01 1.51960784e-01 1.47263072e-01 1.45016340e-01\n",
            " 1.46037582e-01 1.24795752e-01 1.31127451e-01 1.13970588e-01\n",
            " 1.19076797e-01 1.23774510e-01 1.35620915e-01 1.29084967e-01\n",
            " 1.34599673e-01 1.28063725e-01 1.30310458e-01 1.27246732e-01\n",
            " 1.35212418e-01 1.45220588e-01 1.52573529e-01 1.48488562e-01\n",
            " 1.43382353e-01 1.45629085e-01 1.52369281e-01 1.54003268e-01\n",
            " 1.49714052e-01 1.62173203e-01 1.63194444e-01 1.65849673e-01\n",
            " 7.20061036e-03 7.24008307e-03 7.32309138e-03 7.43333809e-03\n",
            " 7.54408725e-03 7.62645062e-03 7.65543338e-03 7.61344563e-03\n",
            " 7.49150105e-03 7.28877774e-03 7.01116724e-03 6.66939188e-03\n",
            " 6.27706153e-03 5.84894931e-03 5.39964298e-03 4.94254939e-03\n",
            " 4.48927330e-03 4.04930767e-03 3.62995639e-03 3.23644187e-03\n",
            " 2.87211384e-03 2.53871735e-03 2.23669969e-03 1.96548551e-03\n",
            " 1.72375503e-03 1.50967517e-03 1.32109632e-03 1.15570915e-03\n",
            " 1.01116870e-03 8.85182177e-04 7.75571330e-04 6.80318975e-04\n",
            " 5.97581733e-04 5.25706506e-04 4.63225995e-04 4.08851600e-04\n",
            " 3.61461600e-04 3.20085208e-04 2.83888076e-04 2.52154656e-04\n",
            " 2.24273259e-04 1.99723712e-04 1.78063041e-04 1.58911469e-04\n",
            " 1.41947457e-04 1.26894738e-04 1.13517977e-04 1.01613514e-04]\n",
            "18 day output [[9.1006164e-05]]\n",
            "19 day input [1.60334967e-01 1.65645425e-01 1.71160131e-01 1.74223856e-01\n",
            " 1.80351307e-01 1.74019608e-01 1.62785948e-01 1.69730392e-01\n",
            " 1.78104575e-01 1.70343137e-01 1.68300654e-01 1.72794118e-01\n",
            " 1.75449346e-01 1.83823529e-01 1.91380719e-01 1.89133987e-01\n",
            " 1.90972222e-01 1.72385621e-01 1.68300654e-01 1.69321895e-01\n",
            " 1.71772876e-01 1.61560458e-01 1.49714052e-01 1.50326797e-01\n",
            " 1.51960784e-01 1.47263072e-01 1.45016340e-01 1.46037582e-01\n",
            " 1.24795752e-01 1.31127451e-01 1.13970588e-01 1.19076797e-01\n",
            " 1.23774510e-01 1.35620915e-01 1.29084967e-01 1.34599673e-01\n",
            " 1.28063725e-01 1.30310458e-01 1.27246732e-01 1.35212418e-01\n",
            " 1.45220588e-01 1.52573529e-01 1.48488562e-01 1.43382353e-01\n",
            " 1.45629085e-01 1.52369281e-01 1.54003268e-01 1.49714052e-01\n",
            " 1.62173203e-01 1.63194444e-01 1.65849673e-01 7.20061036e-03\n",
            " 7.24008307e-03 7.32309138e-03 7.43333809e-03 7.54408725e-03\n",
            " 7.62645062e-03 7.65543338e-03 7.61344563e-03 7.49150105e-03\n",
            " 7.28877774e-03 7.01116724e-03 6.66939188e-03 6.27706153e-03\n",
            " 5.84894931e-03 5.39964298e-03 4.94254939e-03 4.48927330e-03\n",
            " 4.04930767e-03 3.62995639e-03 3.23644187e-03 2.87211384e-03\n",
            " 2.53871735e-03 2.23669969e-03 1.96548551e-03 1.72375503e-03\n",
            " 1.50967517e-03 1.32109632e-03 1.15570915e-03 1.01116870e-03\n",
            " 8.85182177e-04 7.75571330e-04 6.80318975e-04 5.97581733e-04\n",
            " 5.25706506e-04 4.63225995e-04 4.08851600e-04 3.61461600e-04\n",
            " 3.20085208e-04 2.83888076e-04 2.52154656e-04 2.24273259e-04\n",
            " 1.99723712e-04 1.78063041e-04 1.58911469e-04 1.41947457e-04\n",
            " 1.26894738e-04 1.13517977e-04 1.01613514e-04 9.10061644e-05]\n",
            "19 day output [[8.1543905e-05]]\n",
            "20 day input [1.65645425e-01 1.71160131e-01 1.74223856e-01 1.80351307e-01\n",
            " 1.74019608e-01 1.62785948e-01 1.69730392e-01 1.78104575e-01\n",
            " 1.70343137e-01 1.68300654e-01 1.72794118e-01 1.75449346e-01\n",
            " 1.83823529e-01 1.91380719e-01 1.89133987e-01 1.90972222e-01\n",
            " 1.72385621e-01 1.68300654e-01 1.69321895e-01 1.71772876e-01\n",
            " 1.61560458e-01 1.49714052e-01 1.50326797e-01 1.51960784e-01\n",
            " 1.47263072e-01 1.45016340e-01 1.46037582e-01 1.24795752e-01\n",
            " 1.31127451e-01 1.13970588e-01 1.19076797e-01 1.23774510e-01\n",
            " 1.35620915e-01 1.29084967e-01 1.34599673e-01 1.28063725e-01\n",
            " 1.30310458e-01 1.27246732e-01 1.35212418e-01 1.45220588e-01\n",
            " 1.52573529e-01 1.48488562e-01 1.43382353e-01 1.45629085e-01\n",
            " 1.52369281e-01 1.54003268e-01 1.49714052e-01 1.62173203e-01\n",
            " 1.63194444e-01 1.65849673e-01 7.20061036e-03 7.24008307e-03\n",
            " 7.32309138e-03 7.43333809e-03 7.54408725e-03 7.62645062e-03\n",
            " 7.65543338e-03 7.61344563e-03 7.49150105e-03 7.28877774e-03\n",
            " 7.01116724e-03 6.66939188e-03 6.27706153e-03 5.84894931e-03\n",
            " 5.39964298e-03 4.94254939e-03 4.48927330e-03 4.04930767e-03\n",
            " 3.62995639e-03 3.23644187e-03 2.87211384e-03 2.53871735e-03\n",
            " 2.23669969e-03 1.96548551e-03 1.72375503e-03 1.50967517e-03\n",
            " 1.32109632e-03 1.15570915e-03 1.01116870e-03 8.85182177e-04\n",
            " 7.75571330e-04 6.80318975e-04 5.97581733e-04 5.25706506e-04\n",
            " 4.63225995e-04 4.08851600e-04 3.61461600e-04 3.20085208e-04\n",
            " 2.83888076e-04 2.52154656e-04 2.24273259e-04 1.99723712e-04\n",
            " 1.78063041e-04 1.58911469e-04 1.41947457e-04 1.26894738e-04\n",
            " 1.13517977e-04 1.01613514e-04 9.10061644e-05 8.15439053e-05]\n",
            "20 day output [[7.3095514e-05]]\n",
            "21 day input [1.71160131e-01 1.74223856e-01 1.80351307e-01 1.74019608e-01\n",
            " 1.62785948e-01 1.69730392e-01 1.78104575e-01 1.70343137e-01\n",
            " 1.68300654e-01 1.72794118e-01 1.75449346e-01 1.83823529e-01\n",
            " 1.91380719e-01 1.89133987e-01 1.90972222e-01 1.72385621e-01\n",
            " 1.68300654e-01 1.69321895e-01 1.71772876e-01 1.61560458e-01\n",
            " 1.49714052e-01 1.50326797e-01 1.51960784e-01 1.47263072e-01\n",
            " 1.45016340e-01 1.46037582e-01 1.24795752e-01 1.31127451e-01\n",
            " 1.13970588e-01 1.19076797e-01 1.23774510e-01 1.35620915e-01\n",
            " 1.29084967e-01 1.34599673e-01 1.28063725e-01 1.30310458e-01\n",
            " 1.27246732e-01 1.35212418e-01 1.45220588e-01 1.52573529e-01\n",
            " 1.48488562e-01 1.43382353e-01 1.45629085e-01 1.52369281e-01\n",
            " 1.54003268e-01 1.49714052e-01 1.62173203e-01 1.63194444e-01\n",
            " 1.65849673e-01 7.20061036e-03 7.24008307e-03 7.32309138e-03\n",
            " 7.43333809e-03 7.54408725e-03 7.62645062e-03 7.65543338e-03\n",
            " 7.61344563e-03 7.49150105e-03 7.28877774e-03 7.01116724e-03\n",
            " 6.66939188e-03 6.27706153e-03 5.84894931e-03 5.39964298e-03\n",
            " 4.94254939e-03 4.48927330e-03 4.04930767e-03 3.62995639e-03\n",
            " 3.23644187e-03 2.87211384e-03 2.53871735e-03 2.23669969e-03\n",
            " 1.96548551e-03 1.72375503e-03 1.50967517e-03 1.32109632e-03\n",
            " 1.15570915e-03 1.01116870e-03 8.85182177e-04 7.75571330e-04\n",
            " 6.80318975e-04 5.97581733e-04 5.25706506e-04 4.63225995e-04\n",
            " 4.08851600e-04 3.61461600e-04 3.20085208e-04 2.83888076e-04\n",
            " 2.52154656e-04 2.24273259e-04 1.99723712e-04 1.78063041e-04\n",
            " 1.58911469e-04 1.41947457e-04 1.26894738e-04 1.13517977e-04\n",
            " 1.01613514e-04 9.10061644e-05 8.15439053e-05 7.30955144e-05]\n",
            "21 day output [[6.554506e-05]]\n",
            "22 day input [1.74223856e-01 1.80351307e-01 1.74019608e-01 1.62785948e-01\n",
            " 1.69730392e-01 1.78104575e-01 1.70343137e-01 1.68300654e-01\n",
            " 1.72794118e-01 1.75449346e-01 1.83823529e-01 1.91380719e-01\n",
            " 1.89133987e-01 1.90972222e-01 1.72385621e-01 1.68300654e-01\n",
            " 1.69321895e-01 1.71772876e-01 1.61560458e-01 1.49714052e-01\n",
            " 1.50326797e-01 1.51960784e-01 1.47263072e-01 1.45016340e-01\n",
            " 1.46037582e-01 1.24795752e-01 1.31127451e-01 1.13970588e-01\n",
            " 1.19076797e-01 1.23774510e-01 1.35620915e-01 1.29084967e-01\n",
            " 1.34599673e-01 1.28063725e-01 1.30310458e-01 1.27246732e-01\n",
            " 1.35212418e-01 1.45220588e-01 1.52573529e-01 1.48488562e-01\n",
            " 1.43382353e-01 1.45629085e-01 1.52369281e-01 1.54003268e-01\n",
            " 1.49714052e-01 1.62173203e-01 1.63194444e-01 1.65849673e-01\n",
            " 7.20061036e-03 7.24008307e-03 7.32309138e-03 7.43333809e-03\n",
            " 7.54408725e-03 7.62645062e-03 7.65543338e-03 7.61344563e-03\n",
            " 7.49150105e-03 7.28877774e-03 7.01116724e-03 6.66939188e-03\n",
            " 6.27706153e-03 5.84894931e-03 5.39964298e-03 4.94254939e-03\n",
            " 4.48927330e-03 4.04930767e-03 3.62995639e-03 3.23644187e-03\n",
            " 2.87211384e-03 2.53871735e-03 2.23669969e-03 1.96548551e-03\n",
            " 1.72375503e-03 1.50967517e-03 1.32109632e-03 1.15570915e-03\n",
            " 1.01116870e-03 8.85182177e-04 7.75571330e-04 6.80318975e-04\n",
            " 5.97581733e-04 5.25706506e-04 4.63225995e-04 4.08851600e-04\n",
            " 3.61461600e-04 3.20085208e-04 2.83888076e-04 2.52154656e-04\n",
            " 2.24273259e-04 1.99723712e-04 1.78063041e-04 1.58911469e-04\n",
            " 1.41947457e-04 1.26894738e-04 1.13517977e-04 1.01613514e-04\n",
            " 9.10061644e-05 8.15439053e-05 7.30955144e-05 6.55450567e-05]\n",
            "22 day output [[5.8792128e-05]]\n",
            "23 day input [1.80351307e-01 1.74019608e-01 1.62785948e-01 1.69730392e-01\n",
            " 1.78104575e-01 1.70343137e-01 1.68300654e-01 1.72794118e-01\n",
            " 1.75449346e-01 1.83823529e-01 1.91380719e-01 1.89133987e-01\n",
            " 1.90972222e-01 1.72385621e-01 1.68300654e-01 1.69321895e-01\n",
            " 1.71772876e-01 1.61560458e-01 1.49714052e-01 1.50326797e-01\n",
            " 1.51960784e-01 1.47263072e-01 1.45016340e-01 1.46037582e-01\n",
            " 1.24795752e-01 1.31127451e-01 1.13970588e-01 1.19076797e-01\n",
            " 1.23774510e-01 1.35620915e-01 1.29084967e-01 1.34599673e-01\n",
            " 1.28063725e-01 1.30310458e-01 1.27246732e-01 1.35212418e-01\n",
            " 1.45220588e-01 1.52573529e-01 1.48488562e-01 1.43382353e-01\n",
            " 1.45629085e-01 1.52369281e-01 1.54003268e-01 1.49714052e-01\n",
            " 1.62173203e-01 1.63194444e-01 1.65849673e-01 7.20061036e-03\n",
            " 7.24008307e-03 7.32309138e-03 7.43333809e-03 7.54408725e-03\n",
            " 7.62645062e-03 7.65543338e-03 7.61344563e-03 7.49150105e-03\n",
            " 7.28877774e-03 7.01116724e-03 6.66939188e-03 6.27706153e-03\n",
            " 5.84894931e-03 5.39964298e-03 4.94254939e-03 4.48927330e-03\n",
            " 4.04930767e-03 3.62995639e-03 3.23644187e-03 2.87211384e-03\n",
            " 2.53871735e-03 2.23669969e-03 1.96548551e-03 1.72375503e-03\n",
            " 1.50967517e-03 1.32109632e-03 1.15570915e-03 1.01116870e-03\n",
            " 8.85182177e-04 7.75571330e-04 6.80318975e-04 5.97581733e-04\n",
            " 5.25706506e-04 4.63225995e-04 4.08851600e-04 3.61461600e-04\n",
            " 3.20085208e-04 2.83888076e-04 2.52154656e-04 2.24273259e-04\n",
            " 1.99723712e-04 1.78063041e-04 1.58911469e-04 1.41947457e-04\n",
            " 1.26894738e-04 1.13517977e-04 1.01613514e-04 9.10061644e-05\n",
            " 8.15439053e-05 7.30955144e-05 6.55450567e-05 5.87921277e-05]\n",
            "23 day output [[5.2748714e-05]]\n",
            "24 day input [1.74019608e-01 1.62785948e-01 1.69730392e-01 1.78104575e-01\n",
            " 1.70343137e-01 1.68300654e-01 1.72794118e-01 1.75449346e-01\n",
            " 1.83823529e-01 1.91380719e-01 1.89133987e-01 1.90972222e-01\n",
            " 1.72385621e-01 1.68300654e-01 1.69321895e-01 1.71772876e-01\n",
            " 1.61560458e-01 1.49714052e-01 1.50326797e-01 1.51960784e-01\n",
            " 1.47263072e-01 1.45016340e-01 1.46037582e-01 1.24795752e-01\n",
            " 1.31127451e-01 1.13970588e-01 1.19076797e-01 1.23774510e-01\n",
            " 1.35620915e-01 1.29084967e-01 1.34599673e-01 1.28063725e-01\n",
            " 1.30310458e-01 1.27246732e-01 1.35212418e-01 1.45220588e-01\n",
            " 1.52573529e-01 1.48488562e-01 1.43382353e-01 1.45629085e-01\n",
            " 1.52369281e-01 1.54003268e-01 1.49714052e-01 1.62173203e-01\n",
            " 1.63194444e-01 1.65849673e-01 7.20061036e-03 7.24008307e-03\n",
            " 7.32309138e-03 7.43333809e-03 7.54408725e-03 7.62645062e-03\n",
            " 7.65543338e-03 7.61344563e-03 7.49150105e-03 7.28877774e-03\n",
            " 7.01116724e-03 6.66939188e-03 6.27706153e-03 5.84894931e-03\n",
            " 5.39964298e-03 4.94254939e-03 4.48927330e-03 4.04930767e-03\n",
            " 3.62995639e-03 3.23644187e-03 2.87211384e-03 2.53871735e-03\n",
            " 2.23669969e-03 1.96548551e-03 1.72375503e-03 1.50967517e-03\n",
            " 1.32109632e-03 1.15570915e-03 1.01116870e-03 8.85182177e-04\n",
            " 7.75571330e-04 6.80318975e-04 5.97581733e-04 5.25706506e-04\n",
            " 4.63225995e-04 4.08851600e-04 3.61461600e-04 3.20085208e-04\n",
            " 2.83888076e-04 2.52154656e-04 2.24273259e-04 1.99723712e-04\n",
            " 1.78063041e-04 1.58911469e-04 1.41947457e-04 1.26894738e-04\n",
            " 1.13517977e-04 1.01613514e-04 9.10061644e-05 8.15439053e-05\n",
            " 7.30955144e-05 6.55450567e-05 5.87921277e-05 5.27487136e-05]\n",
            "24 day output [[4.7337107e-05]]\n",
            "25 day input [1.62785948e-01 1.69730392e-01 1.78104575e-01 1.70343137e-01\n",
            " 1.68300654e-01 1.72794118e-01 1.75449346e-01 1.83823529e-01\n",
            " 1.91380719e-01 1.89133987e-01 1.90972222e-01 1.72385621e-01\n",
            " 1.68300654e-01 1.69321895e-01 1.71772876e-01 1.61560458e-01\n",
            " 1.49714052e-01 1.50326797e-01 1.51960784e-01 1.47263072e-01\n",
            " 1.45016340e-01 1.46037582e-01 1.24795752e-01 1.31127451e-01\n",
            " 1.13970588e-01 1.19076797e-01 1.23774510e-01 1.35620915e-01\n",
            " 1.29084967e-01 1.34599673e-01 1.28063725e-01 1.30310458e-01\n",
            " 1.27246732e-01 1.35212418e-01 1.45220588e-01 1.52573529e-01\n",
            " 1.48488562e-01 1.43382353e-01 1.45629085e-01 1.52369281e-01\n",
            " 1.54003268e-01 1.49714052e-01 1.62173203e-01 1.63194444e-01\n",
            " 1.65849673e-01 7.20061036e-03 7.24008307e-03 7.32309138e-03\n",
            " 7.43333809e-03 7.54408725e-03 7.62645062e-03 7.65543338e-03\n",
            " 7.61344563e-03 7.49150105e-03 7.28877774e-03 7.01116724e-03\n",
            " 6.66939188e-03 6.27706153e-03 5.84894931e-03 5.39964298e-03\n",
            " 4.94254939e-03 4.48927330e-03 4.04930767e-03 3.62995639e-03\n",
            " 3.23644187e-03 2.87211384e-03 2.53871735e-03 2.23669969e-03\n",
            " 1.96548551e-03 1.72375503e-03 1.50967517e-03 1.32109632e-03\n",
            " 1.15570915e-03 1.01116870e-03 8.85182177e-04 7.75571330e-04\n",
            " 6.80318975e-04 5.97581733e-04 5.25706506e-04 4.63225995e-04\n",
            " 4.08851600e-04 3.61461600e-04 3.20085208e-04 2.83888076e-04\n",
            " 2.52154656e-04 2.24273259e-04 1.99723712e-04 1.78063041e-04\n",
            " 1.58911469e-04 1.41947457e-04 1.26894738e-04 1.13517977e-04\n",
            " 1.01613514e-04 9.10061644e-05 8.15439053e-05 7.30955144e-05\n",
            " 6.55450567e-05 5.87921277e-05 5.27487136e-05 4.73371074e-05]\n",
            "25 day output [[4.2489537e-05]]\n",
            "26 day input [1.69730392e-01 1.78104575e-01 1.70343137e-01 1.68300654e-01\n",
            " 1.72794118e-01 1.75449346e-01 1.83823529e-01 1.91380719e-01\n",
            " 1.89133987e-01 1.90972222e-01 1.72385621e-01 1.68300654e-01\n",
            " 1.69321895e-01 1.71772876e-01 1.61560458e-01 1.49714052e-01\n",
            " 1.50326797e-01 1.51960784e-01 1.47263072e-01 1.45016340e-01\n",
            " 1.46037582e-01 1.24795752e-01 1.31127451e-01 1.13970588e-01\n",
            " 1.19076797e-01 1.23774510e-01 1.35620915e-01 1.29084967e-01\n",
            " 1.34599673e-01 1.28063725e-01 1.30310458e-01 1.27246732e-01\n",
            " 1.35212418e-01 1.45220588e-01 1.52573529e-01 1.48488562e-01\n",
            " 1.43382353e-01 1.45629085e-01 1.52369281e-01 1.54003268e-01\n",
            " 1.49714052e-01 1.62173203e-01 1.63194444e-01 1.65849673e-01\n",
            " 7.20061036e-03 7.24008307e-03 7.32309138e-03 7.43333809e-03\n",
            " 7.54408725e-03 7.62645062e-03 7.65543338e-03 7.61344563e-03\n",
            " 7.49150105e-03 7.28877774e-03 7.01116724e-03 6.66939188e-03\n",
            " 6.27706153e-03 5.84894931e-03 5.39964298e-03 4.94254939e-03\n",
            " 4.48927330e-03 4.04930767e-03 3.62995639e-03 3.23644187e-03\n",
            " 2.87211384e-03 2.53871735e-03 2.23669969e-03 1.96548551e-03\n",
            " 1.72375503e-03 1.50967517e-03 1.32109632e-03 1.15570915e-03\n",
            " 1.01116870e-03 8.85182177e-04 7.75571330e-04 6.80318975e-04\n",
            " 5.97581733e-04 5.25706506e-04 4.63225995e-04 4.08851600e-04\n",
            " 3.61461600e-04 3.20085208e-04 2.83888076e-04 2.52154656e-04\n",
            " 2.24273259e-04 1.99723712e-04 1.78063041e-04 1.58911469e-04\n",
            " 1.41947457e-04 1.26894738e-04 1.13517977e-04 1.01613514e-04\n",
            " 9.10061644e-05 8.15439053e-05 7.30955144e-05 6.55450567e-05\n",
            " 5.87921277e-05 5.27487136e-05 4.73371074e-05 4.24895370e-05]\n",
            "26 day output [[3.8145674e-05]]\n",
            "27 day input [1.78104575e-01 1.70343137e-01 1.68300654e-01 1.72794118e-01\n",
            " 1.75449346e-01 1.83823529e-01 1.91380719e-01 1.89133987e-01\n",
            " 1.90972222e-01 1.72385621e-01 1.68300654e-01 1.69321895e-01\n",
            " 1.71772876e-01 1.61560458e-01 1.49714052e-01 1.50326797e-01\n",
            " 1.51960784e-01 1.47263072e-01 1.45016340e-01 1.46037582e-01\n",
            " 1.24795752e-01 1.31127451e-01 1.13970588e-01 1.19076797e-01\n",
            " 1.23774510e-01 1.35620915e-01 1.29084967e-01 1.34599673e-01\n",
            " 1.28063725e-01 1.30310458e-01 1.27246732e-01 1.35212418e-01\n",
            " 1.45220588e-01 1.52573529e-01 1.48488562e-01 1.43382353e-01\n",
            " 1.45629085e-01 1.52369281e-01 1.54003268e-01 1.49714052e-01\n",
            " 1.62173203e-01 1.63194444e-01 1.65849673e-01 7.20061036e-03\n",
            " 7.24008307e-03 7.32309138e-03 7.43333809e-03 7.54408725e-03\n",
            " 7.62645062e-03 7.65543338e-03 7.61344563e-03 7.49150105e-03\n",
            " 7.28877774e-03 7.01116724e-03 6.66939188e-03 6.27706153e-03\n",
            " 5.84894931e-03 5.39964298e-03 4.94254939e-03 4.48927330e-03\n",
            " 4.04930767e-03 3.62995639e-03 3.23644187e-03 2.87211384e-03\n",
            " 2.53871735e-03 2.23669969e-03 1.96548551e-03 1.72375503e-03\n",
            " 1.50967517e-03 1.32109632e-03 1.15570915e-03 1.01116870e-03\n",
            " 8.85182177e-04 7.75571330e-04 6.80318975e-04 5.97581733e-04\n",
            " 5.25706506e-04 4.63225995e-04 4.08851600e-04 3.61461600e-04\n",
            " 3.20085208e-04 2.83888076e-04 2.52154656e-04 2.24273259e-04\n",
            " 1.99723712e-04 1.78063041e-04 1.58911469e-04 1.41947457e-04\n",
            " 1.26894738e-04 1.13517977e-04 1.01613514e-04 9.10061644e-05\n",
            " 8.15439053e-05 7.30955144e-05 6.55450567e-05 5.87921277e-05\n",
            " 5.27487136e-05 4.73371074e-05 4.24895370e-05 3.81456739e-05]\n",
            "27 day output [[3.4250654e-05]]\n",
            "28 day input [1.70343137e-01 1.68300654e-01 1.72794118e-01 1.75449346e-01\n",
            " 1.83823529e-01 1.91380719e-01 1.89133987e-01 1.90972222e-01\n",
            " 1.72385621e-01 1.68300654e-01 1.69321895e-01 1.71772876e-01\n",
            " 1.61560458e-01 1.49714052e-01 1.50326797e-01 1.51960784e-01\n",
            " 1.47263072e-01 1.45016340e-01 1.46037582e-01 1.24795752e-01\n",
            " 1.31127451e-01 1.13970588e-01 1.19076797e-01 1.23774510e-01\n",
            " 1.35620915e-01 1.29084967e-01 1.34599673e-01 1.28063725e-01\n",
            " 1.30310458e-01 1.27246732e-01 1.35212418e-01 1.45220588e-01\n",
            " 1.52573529e-01 1.48488562e-01 1.43382353e-01 1.45629085e-01\n",
            " 1.52369281e-01 1.54003268e-01 1.49714052e-01 1.62173203e-01\n",
            " 1.63194444e-01 1.65849673e-01 7.20061036e-03 7.24008307e-03\n",
            " 7.32309138e-03 7.43333809e-03 7.54408725e-03 7.62645062e-03\n",
            " 7.65543338e-03 7.61344563e-03 7.49150105e-03 7.28877774e-03\n",
            " 7.01116724e-03 6.66939188e-03 6.27706153e-03 5.84894931e-03\n",
            " 5.39964298e-03 4.94254939e-03 4.48927330e-03 4.04930767e-03\n",
            " 3.62995639e-03 3.23644187e-03 2.87211384e-03 2.53871735e-03\n",
            " 2.23669969e-03 1.96548551e-03 1.72375503e-03 1.50967517e-03\n",
            " 1.32109632e-03 1.15570915e-03 1.01116870e-03 8.85182177e-04\n",
            " 7.75571330e-04 6.80318975e-04 5.97581733e-04 5.25706506e-04\n",
            " 4.63225995e-04 4.08851600e-04 3.61461600e-04 3.20085208e-04\n",
            " 2.83888076e-04 2.52154656e-04 2.24273259e-04 1.99723712e-04\n",
            " 1.78063041e-04 1.58911469e-04 1.41947457e-04 1.26894738e-04\n",
            " 1.13517977e-04 1.01613514e-04 9.10061644e-05 8.15439053e-05\n",
            " 7.30955144e-05 6.55450567e-05 5.87921277e-05 5.27487136e-05\n",
            " 4.73371074e-05 4.24895370e-05 3.81456739e-05 3.42506537e-05]\n",
            "28 day output [[3.0756804e-05]]\n",
            "29 day input [1.68300654e-01 1.72794118e-01 1.75449346e-01 1.83823529e-01\n",
            " 1.91380719e-01 1.89133987e-01 1.90972222e-01 1.72385621e-01\n",
            " 1.68300654e-01 1.69321895e-01 1.71772876e-01 1.61560458e-01\n",
            " 1.49714052e-01 1.50326797e-01 1.51960784e-01 1.47263072e-01\n",
            " 1.45016340e-01 1.46037582e-01 1.24795752e-01 1.31127451e-01\n",
            " 1.13970588e-01 1.19076797e-01 1.23774510e-01 1.35620915e-01\n",
            " 1.29084967e-01 1.34599673e-01 1.28063725e-01 1.30310458e-01\n",
            " 1.27246732e-01 1.35212418e-01 1.45220588e-01 1.52573529e-01\n",
            " 1.48488562e-01 1.43382353e-01 1.45629085e-01 1.52369281e-01\n",
            " 1.54003268e-01 1.49714052e-01 1.62173203e-01 1.63194444e-01\n",
            " 1.65849673e-01 7.20061036e-03 7.24008307e-03 7.32309138e-03\n",
            " 7.43333809e-03 7.54408725e-03 7.62645062e-03 7.65543338e-03\n",
            " 7.61344563e-03 7.49150105e-03 7.28877774e-03 7.01116724e-03\n",
            " 6.66939188e-03 6.27706153e-03 5.84894931e-03 5.39964298e-03\n",
            " 4.94254939e-03 4.48927330e-03 4.04930767e-03 3.62995639e-03\n",
            " 3.23644187e-03 2.87211384e-03 2.53871735e-03 2.23669969e-03\n",
            " 1.96548551e-03 1.72375503e-03 1.50967517e-03 1.32109632e-03\n",
            " 1.15570915e-03 1.01116870e-03 8.85182177e-04 7.75571330e-04\n",
            " 6.80318975e-04 5.97581733e-04 5.25706506e-04 4.63225995e-04\n",
            " 4.08851600e-04 3.61461600e-04 3.20085208e-04 2.83888076e-04\n",
            " 2.52154656e-04 2.24273259e-04 1.99723712e-04 1.78063041e-04\n",
            " 1.58911469e-04 1.41947457e-04 1.26894738e-04 1.13517977e-04\n",
            " 1.01613514e-04 9.10061644e-05 8.15439053e-05 7.30955144e-05\n",
            " 6.55450567e-05 5.87921277e-05 5.27487136e-05 4.73371074e-05\n",
            " 4.24895370e-05 3.81456739e-05 3.42506537e-05 3.07568043e-05]\n",
            "29 day output [[2.7622684e-05]]\n",
            "[[0.0007755713304504752], [0.0006803189753554761], [0.0005975817330181599], [0.0005257065058685839], [0.0004632259951904416], [0.0004088515997864306], [0.00036146159982308745], [0.00032008520793169737], [0.0002838880755007267], [0.0002521546557545662], [0.00022427325893659145], [0.00019972371228504926], [0.00017806304094847292], [0.0001589114690432325], [0.00014194745745044202], [0.00012689473805949092], [0.00011351797729730606], [0.00010161351383430883], [9.100616443902254e-05], [8.154390525305644e-05], [7.309551438083872e-05], [6.5545056713745e-05], [5.879212767467834e-05], [5.274871364235878e-05], [4.733710738946684e-05], [4.24895370088052e-05], [3.814567389781587e-05], [3.425065369810909e-05], [3.075680433539674e-05], [2.7622683774097823e-05]]\n"
          ]
        }
      ]
    },
    {
      "cell_type": "code",
      "execution_count": 277,
      "metadata": {
        "id": "FeEE9uQjqcX3"
      },
      "outputs": [],
      "source": [
        "day_new=np.arange(1,101)\n",
        "day_pred=np.arange(101,131)"
      ]
    },
    {
      "cell_type": "code",
      "execution_count": 278,
      "metadata": {
        "colab": {
          "base_uri": "https://localhost:8080/"
        },
        "id": "DeME8D4Mqk6F",
        "outputId": "57f8e0c2-e152-4a4a-ea38-34471422389f"
      },
      "outputs": [
        {
          "output_type": "execute_result",
          "data": {
            "text/plain": [
              "2035"
            ]
          },
          "metadata": {},
          "execution_count": 278
        }
      ],
      "source": [
        "len(stp1)"
      ]
    },
    {
      "cell_type": "code",
      "source": [
        "plt.plot(day_new,scaler.inverse_transform(stp1[1935:]))\n",
        "plt.plot(day_pred,scaler.inverse_transform(lst_output))"
      ],
      "metadata": {
        "colab": {
          "base_uri": "https://localhost:8080/",
          "height": 283
        },
        "id": "sA9xaJhoP5bQ",
        "outputId": "3b0aebb2-9a89-412c-c682-658d47dac7c7"
      },
      "execution_count": 286,
      "outputs": [
        {
          "output_type": "execute_result",
          "data": {
            "text/plain": [
              "[<matplotlib.lines.Line2D at 0x7f605c048a50>]"
            ]
          },
          "metadata": {},
          "execution_count": 286
        },
        {
          "output_type": "display_data",
          "data": {
            "text/plain": [
              "<Figure size 432x288 with 1 Axes>"
            ],
            "image/png": "[encoded data removed]"
          },
          "metadata": {
            "needs_background": "light"
          }
        }
      ]
    },
    {
      "cell_type": "code",
      "execution_count": 280,
      "metadata": {
        "id": "5aYZbDqtpLe6",
        "colab": {
          "base_uri": "https://localhost:8080/",
          "height": 283
        },
        "outputId": "6f701630-6e1b-44c0-f5b7-5bc8ff42a7f7"
      },
      "outputs": [
        {
          "output_type": "execute_result",
          "data": {
            "text/plain": [
              "[<matplotlib.lines.Line2D at 0x7f605f5fbdd0>]"
            ]
          },
          "metadata": {},
          "execution_count": 280
        },
        {
          "output_type": "display_data",
          "data": {
            "text/plain": [
              "<Figure size 432x288 with 1 Axes>"
            ],
            "image/png": "[encoded data removed]"
          },
          "metadata": {
            "needs_background": "light"
          }
        }
      ],
      "source": [
        "stp3=stp1.tolist()\n",
        "stp3.extend(lst_output)\n",
        "plt.plot((stp3[1200:]),color=\"g\")"
      ]
    },
    {
      "cell_type": "code",
      "source": [
        "stp3=scaler.inverse_transform(stp3).tolist()"
      ],
      "metadata": {
        "id": "zEC7-9tGQBJl"
      },
      "execution_count": 282,
      "outputs": []
    },
    {
      "cell_type": "code",
      "source": [
        "plt.plot((stp3),color=\"y\")"
      ],
      "metadata": {
        "colab": {
          "base_uri": "https://localhost:8080/",
          "height": 283
        },
        "id": "WfnujlvNQGn-",
        "outputId": "1efd6b7a-ec90-4850-8c0c-81632f0fc41f"
      },
      "execution_count": 285,
      "outputs": [
        {
          "output_type": "execute_result",
          "data": {
            "text/plain": [
              "[<matplotlib.lines.Line2D at 0x7f605bfd8450>]"
            ]
          },
          "metadata": {},
          "execution_count": 285
        },
        {
          "output_type": "display_data",
          "data": {
            "text/plain": [
              "<Figure size 432x288 with 1 Axes>"
            ],
            "image/png": "[encoded data removed]"
          },
          "metadata": {
            "needs_background": "light"
          }
        }
      ]
    }
  ],
  "metadata": {
    "colab": {
      "provenance": []
    },
    "kernelspec": {
      "display_name": "Python 3",
      "name": "python3"
    },
    "language_info": {
      "name": "python"
    }
  },
  "nbformat": 4,
  "nbformat_minor": 0
}